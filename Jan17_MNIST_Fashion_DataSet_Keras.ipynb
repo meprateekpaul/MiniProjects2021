{
  "nbformat": 4,
  "nbformat_minor": 0,
  "metadata": {
    "colab": {
      "name": "Jan17_MNIST_Fashion_DataSet_Keras.ipynb",
      "provenance": [],
      "collapsed_sections": []
    },
    "kernelspec": {
      "display_name": "Python 3",
      "language": "python",
      "name": "python3"
    },
    "language_info": {
      "codemirror_mode": {
        "name": "ipython",
        "version": 3
      },
      "file_extension": ".py",
      "mimetype": "text/x-python",
      "name": "python",
      "nbconvert_exporter": "python",
      "pygments_lexer": "ipython3",
      "version": "3.8.5"
    }
  },
  "cells": [
    {
      "cell_type": "markdown",
      "metadata": {
        "id": "bBkUVmxrbGl0"
      },
      "source": [
        "### Fashion MNIST dataset Project"
      ]
    },
    {
      "cell_type": "markdown",
      "metadata": {
        "id": "DtyqdqPHJiLT"
      },
      "source": [
        "A mini project by Prateek Paul meprateekpaul@gmail.com"
      ]
    },
    {
      "cell_type": "code",
      "metadata": {
        "colab": {
          "base_uri": "https://localhost:8080/"
        },
        "id": "r_TvM4dYbcXb",
        "outputId": "0a4bdb9b-bd00-42ef-f940-7132ac1b82d9"
      },
      "source": [
        "## IMPORTING DATASET\n",
        "from keras.datasets import fashion_mnist\n",
        "data = fashion_mnist.load_data()"
      ],
      "execution_count": 4,
      "outputs": [
        {
          "output_type": "stream",
          "text": [
            "Downloading data from https://storage.googleapis.com/tensorflow/tf-keras-datasets/train-labels-idx1-ubyte.gz\n",
            "32768/29515 [=================================] - 0s 0us/step\n",
            "Downloading data from https://storage.googleapis.com/tensorflow/tf-keras-datasets/train-images-idx3-ubyte.gz\n",
            "26427392/26421880 [==============================] - 0s 0us/step\n",
            "Downloading data from https://storage.googleapis.com/tensorflow/tf-keras-datasets/t10k-labels-idx1-ubyte.gz\n",
            "8192/5148 [===============================================] - 0s 0us/step\n",
            "Downloading data from https://storage.googleapis.com/tensorflow/tf-keras-datasets/t10k-images-idx3-ubyte.gz\n",
            "4423680/4422102 [==============================] - 0s 0us/step\n"
          ],
          "name": "stdout"
        }
      ]
    },
    {
      "cell_type": "code",
      "metadata": {
        "id": "RA-a4NR8bmKU"
      },
      "source": [
        "(X_train, y_train), (X_test, y_test) = fashion_mnist.load_data()"
      ],
      "execution_count": 6,
      "outputs": []
    },
    {
      "cell_type": "code",
      "metadata": {
        "colab": {
          "base_uri": "https://localhost:8080/",
          "height": 268
        },
        "id": "7jMw2SfxbnIx",
        "outputId": "c77da560-7114-40fd-d01f-1fea28afb54a"
      },
      "source": [
        "import matplotlib.pyplot as plt\n",
        "\n",
        "plt.subplot(221)\n",
        "plt.imshow(X_train[0], cmap=plt.get_cmap('gray'))\n",
        "plt.subplot(222)\n",
        "plt.imshow(X_train[1], cmap=plt.get_cmap('gray'))\n",
        "plt.subplot(223)\n",
        "plt.imshow(X_train[2], cmap=plt.get_cmap('gray'))\n",
        "plt.subplot(224)\n",
        "plt.imshow(X_train[3], cmap=plt.get_cmap('gray'))\n",
        "# show the plot\n",
        "plt.show()"
      ],
      "execution_count": 7,
      "outputs": [
        {
          "output_type": "display_data",
          "data": {
            "image/png": "[encoded data removed]",
            "text/plain": [
              "<Figure size 432x288 with 4 Axes>"
            ]
          },
          "metadata": {
            "tags": [],
            "needs_background": "light"
          }
        }
      ]
    },
    {
      "cell_type": "code",
      "metadata": {
        "colab": {
          "base_uri": "https://localhost:8080/"
        },
        "id": "ffjJ870kckZb",
        "outputId": "703d3a36-ff70-42a9-f6b4-a97afac0083b"
      },
      "source": [
        "X_train[0].shape"
      ],
      "execution_count": 9,
      "outputs": [
        {
          "output_type": "execute_result",
          "data": {
            "text/plain": [
              "(28, 28)"
            ]
          },
          "metadata": {
            "tags": []
          },
          "execution_count": 9
        }
      ]
    },
    {
      "cell_type": "code",
      "metadata": {
        "id": "Wc4rk-O4ch4e"
      },
      "source": [
        "X_train = X_train.reshape((X_train.shape[0], 28*28)).astype('float32')\n",
        "X_test = X_test.reshape((X_test.shape[0], 28*28)).astype('float32')"
      ],
      "execution_count": 10,
      "outputs": []
    },
    {
      "cell_type": "code",
      "metadata": {
        "id": "0qQQzwT7ctJp"
      },
      "source": [
        "# Normalizing values from 0-255 to 0-1\n",
        "X_train = X_train / 255\n",
        "X_test = X_test / 255"
      ],
      "execution_count": 11,
      "outputs": []
    },
    {
      "cell_type": "code",
      "metadata": {
        "id": "Q8dBSgcDc53p"
      },
      "source": [
        "from keras.utils import np_utils\n",
        "y_train = np_utils.to_categorical(y_train)\n",
        "y_test = np_utils.to_categorical(y_test)\n",
        "num_classes = y_test.shape[1]"
      ],
      "execution_count": 12,
      "outputs": []
    },
    {
      "cell_type": "code",
      "metadata": {
        "id": "5Tk6c1ETcHMA"
      },
      "source": [
        "from keras.models import Sequential\n",
        "from keras.layers import Dense\n",
        "from keras.layers import Dropout"
      ],
      "execution_count": 13,
      "outputs": []
    },
    {
      "cell_type": "code",
      "metadata": {
        "id": "8jMLIQeJc88G"
      },
      "source": [
        "model = Sequential()\n",
        "model.add(Dense(32, input_dim = 28*28, activation='relu'))  ## hidden layer 1\n",
        "model.add(Dense(64, activation='relu'))  ## hidden layer 2\n",
        "model.add(Dense(128, activation='relu'))  ## hidden layer 3\n",
        "model.add(Dense(256, activation='relu'))  ## hidden layer 4\n",
        "model.add(Dense(512, activation='relu'))  ## hidden layer 5\n",
        "model.add(Dense(10, activation='softmax'))  ## output layer, 10 = number of classes"
      ],
      "execution_count": 16,
      "outputs": []
    },
    {
      "cell_type": "code",
      "metadata": {
        "id": "2l4jYFnpdl8j"
      },
      "source": [
        "model.compile(loss='categorical_crossentropy', optimizer='adam', metrics=['accuracy'])"
      ],
      "execution_count": 17,
      "outputs": []
    },
    {
      "cell_type": "code",
      "metadata": {
        "colab": {
          "base_uri": "https://localhost:8080/"
        },
        "id": "oEvcMmt-dok4",
        "outputId": "d70c243e-75c5-4bb0-e449-4dcf1a2cbffa"
      },
      "source": [
        "model.summary()"
      ],
      "execution_count": 18,
      "outputs": [
        {
          "output_type": "stream",
          "text": [
            "Model: \"sequential_1\"\n",
            "_________________________________________________________________\n",
            "Layer (type)                 Output Shape              Param #   \n",
            "=================================================================\n",
            "dense_6 (Dense)              (None, 32)                25120     \n",
            "_________________________________________________________________\n",
            "dense_7 (Dense)              (None, 64)                2112      \n",
            "_________________________________________________________________\n",
            "dense_8 (Dense)              (None, 128)               8320      \n",
            "_________________________________________________________________\n",
            "dense_9 (Dense)              (None, 256)               33024     \n",
            "_________________________________________________________________\n",
            "dense_10 (Dense)             (None, 512)               131584    \n",
            "_________________________________________________________________\n",
            "dense_11 (Dense)             (None, 10)                5130      \n",
            "=================================================================\n",
            "Total params: 205,290\n",
            "Trainable params: 205,290\n",
            "Non-trainable params: 0\n",
            "_________________________________________________________________\n"
          ],
          "name": "stdout"
        }
      ]
    },
    {
      "cell_type": "code",
      "metadata": {
        "colab": {
          "base_uri": "https://localhost:8080/"
        },
        "id": "nBW-EpeUdqrr",
        "outputId": "ecb9e4ec-f0d4-4670-a487-71c2bf39d430"
      },
      "source": [
        "model.fit(X_train, y_train, validation_split=0.2 , epochs=20, batch_size=100)"
      ],
      "execution_count": 19,
      "outputs": [
        {
          "output_type": "stream",
          "text": [
            "Epoch 1/20\n",
            "480/480 [==============================] - 5s 9ms/step - loss: 0.8356 - accuracy: 0.6964 - val_loss: 0.4873 - val_accuracy: 0.8184\n",
            "Epoch 2/20\n",
            "480/480 [==============================] - 4s 8ms/step - loss: 0.4281 - accuracy: 0.8460 - val_loss: 0.3784 - val_accuracy: 0.8609\n",
            "Epoch 3/20\n",
            "480/480 [==============================] - 4s 8ms/step - loss: 0.3676 - accuracy: 0.8642 - val_loss: 0.3759 - val_accuracy: 0.8606\n",
            "Epoch 4/20\n",
            "480/480 [==============================] - 4s 8ms/step - loss: 0.3421 - accuracy: 0.8721 - val_loss: 0.3563 - val_accuracy: 0.8688\n",
            "Epoch 5/20\n",
            "480/480 [==============================] - 4s 8ms/step - loss: 0.3302 - accuracy: 0.8777 - val_loss: 0.3647 - val_accuracy: 0.8633\n",
            "Epoch 6/20\n",
            "480/480 [==============================] - 4s 9ms/step - loss: 0.3184 - accuracy: 0.8822 - val_loss: 0.3556 - val_accuracy: 0.8692\n",
            "Epoch 7/20\n",
            "480/480 [==============================] - 4s 8ms/step - loss: 0.2968 - accuracy: 0.8897 - val_loss: 0.3324 - val_accuracy: 0.8798\n",
            "Epoch 8/20\n",
            "480/480 [==============================] - 4s 8ms/step - loss: 0.2833 - accuracy: 0.8940 - val_loss: 0.3415 - val_accuracy: 0.8784\n",
            "Epoch 9/20\n",
            "480/480 [==============================] - 4s 8ms/step - loss: 0.2683 - accuracy: 0.8995 - val_loss: 0.3288 - val_accuracy: 0.8842\n",
            "Epoch 10/20\n",
            "480/480 [==============================] - 4s 9ms/step - loss: 0.2683 - accuracy: 0.8997 - val_loss: 0.3540 - val_accuracy: 0.8785\n",
            "Epoch 11/20\n",
            "480/480 [==============================] - 4s 8ms/step - loss: 0.2577 - accuracy: 0.9032 - val_loss: 0.3365 - val_accuracy: 0.8820\n",
            "Epoch 12/20\n",
            "480/480 [==============================] - 4s 8ms/step - loss: 0.2488 - accuracy: 0.9060 - val_loss: 0.3384 - val_accuracy: 0.8817\n",
            "Epoch 13/20\n",
            "480/480 [==============================] - 4s 8ms/step - loss: 0.2423 - accuracy: 0.9064 - val_loss: 0.3306 - val_accuracy: 0.8838\n",
            "Epoch 14/20\n",
            "480/480 [==============================] - 4s 8ms/step - loss: 0.2379 - accuracy: 0.9116 - val_loss: 0.3424 - val_accuracy: 0.8808\n",
            "Epoch 15/20\n",
            "480/480 [==============================] - 4s 8ms/step - loss: 0.2332 - accuracy: 0.9086 - val_loss: 0.3347 - val_accuracy: 0.8841\n",
            "Epoch 16/20\n",
            "480/480 [==============================] - 4s 8ms/step - loss: 0.2259 - accuracy: 0.9133 - val_loss: 0.3794 - val_accuracy: 0.8776\n",
            "Epoch 17/20\n",
            "480/480 [==============================] - 4s 8ms/step - loss: 0.2242 - accuracy: 0.9121 - val_loss: 0.3402 - val_accuracy: 0.8849\n",
            "Epoch 18/20\n",
            "480/480 [==============================] - 4s 8ms/step - loss: 0.2114 - accuracy: 0.9193 - val_loss: 0.3421 - val_accuracy: 0.8850\n",
            "Epoch 19/20\n",
            "480/480 [==============================] - 4s 8ms/step - loss: 0.2062 - accuracy: 0.9223 - val_loss: 0.3368 - val_accuracy: 0.8884\n",
            "Epoch 20/20\n",
            "480/480 [==============================] - 4s 8ms/step - loss: 0.2019 - accuracy: 0.9232 - val_loss: 0.3559 - val_accuracy: 0.8871\n"
          ],
          "name": "stdout"
        },
        {
          "output_type": "execute_result",
          "data": {
            "text/plain": [
              "<tensorflow.python.keras.callbacks.History at 0x7f6df487f940>"
            ]
          },
          "metadata": {
            "tags": []
          },
          "execution_count": 19
        }
      ]
    },
    {
      "cell_type": "code",
      "metadata": {
        "colab": {
          "base_uri": "https://localhost:8080/"
        },
        "id": "QzwVj1jsd05x",
        "outputId": "cf67a883-905e-4689-8897-f96e24d56145"
      },
      "source": [
        "scores = model.evaluate(X_test, y_test)\n",
        "print(scores)   ## returns loss and accuracy"
      ],
      "execution_count": 20,
      "outputs": [
        {
          "output_type": "stream",
          "text": [
            "313/313 [==============================] - 1s 2ms/step - loss: 0.3799 - accuracy: 0.8785\n",
            "[0.37992218136787415, 0.8784999847412109]\n"
          ],
          "name": "stdout"
        }
      ]
    },
    {
      "cell_type": "code",
      "metadata": {
        "id": "WixdzOtYJdtY"
      },
      "source": [
        ""
      ],
      "execution_count": null,
      "outputs": []
    }
  ]
}