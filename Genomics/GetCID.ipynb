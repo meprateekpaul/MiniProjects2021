{
 "cells": [
  {
   "cell_type": "code",
   "execution_count": 9,
   "id": "706732de",
   "metadata": {},
   "outputs": [],
   "source": [
    "import Bio\n",
    "import pubchempy"
   ]
  },
  {
   "cell_type": "code",
   "execution_count": 10,
   "id": "6c4b3526",
   "metadata": {},
   "outputs": [],
   "source": [
    "import pubchempy as pcp\n",
    "pcp.download('SDF', '5090.sdf', 5090, 'cid')"
   ]
  },
  {
   "cell_type": "code",
   "execution_count": null,
   "id": "2b01ee86",
   "metadata": {},
   "outputs": [],
   "source": [
    "pip install drugbank-downloader"
   ]
  },
  {
   "cell_type": "code",
   "execution_count": 13,
   "id": "0a15e12c",
   "metadata": {},
   "outputs": [],
   "source": [
    "import os\n",
    "from drugbank_downloader import download_drugbank"
   ]
  },
  {
   "cell_type": "code",
   "execution_count": null,
   "id": "27f7bbbb",
   "metadata": {},
   "outputs": [],
   "source": []
  }
 ],
 "metadata": {
  "kernelspec": {
   "display_name": "Python 3",
   "language": "python",
   "name": "python3"
  },
  "language_info": {
   "codemirror_mode": {
    "name": "ipython",
    "version": 3
   },
   "file_extension": ".py",
   "mimetype": "text/x-python",
   "name": "python",
   "nbconvert_exporter": "python",
   "pygments_lexer": "ipython3",
   "version": "3.9.2"
  }
 },
 "nbformat": 4,
 "nbformat_minor": 5
}
