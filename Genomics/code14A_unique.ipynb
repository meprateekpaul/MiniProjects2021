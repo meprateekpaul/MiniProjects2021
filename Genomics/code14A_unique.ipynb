{
 "cells": [
  {
   "cell_type": "code",
   "execution_count": 2,
   "id": "b3fbd0b2",
   "metadata": {},
   "outputs": [],
   "source": [
    "import pandas as pd\n",
    "import numpy as np\n",
    "from tqdm import tqdm\n",
    "from pubchempy import Compound, get_compounds\n",
    "import pubchempy as pcp"
   ]
  },
  {
   "cell_type": "code",
   "execution_count": 3,
   "id": "13df1deb",
   "metadata": {},
   "outputs": [],
   "source": [
    "df=pd.read_csv('Table_13A_True_Negetive_Sider_Unique1.csv')"
   ]
  },
  {
   "cell_type": "code",
   "execution_count": 4,
   "id": "83bfaba0",
   "metadata": {},
   "outputs": [],
   "source": [
    "df=df.drop_duplicates()"
   ]
  },
  {
   "cell_type": "code",
   "execution_count": 6,
   "id": "0288a68c",
   "metadata": {},
   "outputs": [],
   "source": [
    "df=df[['CID_mainD','drugname','Drug1_Target_Name']]"
   ]
  },
  {
   "cell_type": "code",
   "execution_count": 8,
   "id": "59dc181c",
   "metadata": {},
   "outputs": [],
   "source": [
    "df=df.drop_duplicates()"
   ]
  },
  {
   "cell_type": "code",
   "execution_count": 9,
   "id": "2d0fdcab",
   "metadata": {},
   "outputs": [],
   "source": [
    "drugs=df['drugname'].values"
   ]
  },
  {
   "cell_type": "code",
   "execution_count": 10,
   "id": "7625b5fe",
   "metadata": {},
   "outputs": [
    {
     "data": {
      "text/plain": [
       "194"
      ]
     },
     "execution_count": 10,
     "metadata": {},
     "output_type": "execute_result"
    }
   ],
   "source": [
    "len(drugs)"
   ]
  },
  {
   "cell_type": "code",
   "execution_count": 11,
   "id": "45a84695",
   "metadata": {},
   "outputs": [
    {
     "name": "stderr",
     "output_type": "stream",
     "text": [
      "100%|████████████████████████████████████████████████████████████████████████████████| 194/194 [07:08<00:00,  2.21s/it]\n"
     ]
    }
   ],
   "source": [
    "dict2={}\n",
    "for i in tqdm(drugs):\n",
    "    for compound in get_compounds(i,'name'):\n",
    "        dict2[i]=compound.isomeric_smiles"
   ]
  },
  {
   "cell_type": "code",
   "execution_count": 13,
   "id": "22b715dc",
   "metadata": {},
   "outputs": [],
   "source": [
    "df['Smiles'] = df['drugname'].map(dict2)"
   ]
  },
  {
   "cell_type": "code",
   "execution_count": 14,
   "id": "48f30b6f",
   "metadata": {},
   "outputs": [
    {
     "data": {
      "text/html": [
       "<div>\n",
       "<style scoped>\n",
       "    .dataframe tbody tr th:only-of-type {\n",
       "        vertical-align: middle;\n",
       "    }\n",
       "\n",
       "    .dataframe tbody tr th {\n",
       "        vertical-align: top;\n",
       "    }\n",
       "\n",
       "    .dataframe thead th {\n",
       "        text-align: right;\n",
       "    }\n",
       "</style>\n",
       "<table border=\"1\" class=\"dataframe\">\n",
       "  <thead>\n",
       "    <tr style=\"text-align: right;\">\n",
       "      <th></th>\n",
       "      <th>CID_mainD</th>\n",
       "      <th>drugname</th>\n",
       "      <th>Drug1_Target_Name</th>\n",
       "      <th>Smiles</th>\n",
       "    </tr>\n",
       "  </thead>\n",
       "  <tbody>\n",
       "    <tr>\n",
       "      <th>0</th>\n",
       "      <td>CID100032281</td>\n",
       "      <td>Protirelin</td>\n",
       "      <td>Thyrotropin-releasing hormone receptor (TRHR)</td>\n",
       "      <td>C1C[C@H](N(C1)C(=O)[C@H](CC2=CN=CN2)NC(=O)[C@@...</td>\n",
       "    </tr>\n",
       "    <tr>\n",
       "      <th>2</th>\n",
       "      <td>CID100132971</td>\n",
       "      <td>abiraterone</td>\n",
       "      <td>Steroid 17-alpha-monooxygenase (S17AH)</td>\n",
       "      <td>C[C@]12CC[C@@H](CC1=CC[C@@H]3[C@@H]2CC[C@]4([C...</td>\n",
       "    </tr>\n",
       "    <tr>\n",
       "      <th>3</th>\n",
       "      <td>CID100041774</td>\n",
       "      <td>acarbose</td>\n",
       "      <td>Intestinal maltase-glucoamylase (MGAM)</td>\n",
       "      <td>C[C@@H]1C(C([C@H]([C@H](O1)O[C@@H]2[C@H](OC(C(...</td>\n",
       "    </tr>\n",
       "    <tr>\n",
       "      <th>4</th>\n",
       "      <td>CID100000187</td>\n",
       "      <td>acetylcholine</td>\n",
       "      <td>Muscarinic acetylcholine receptor (CHRM)</td>\n",
       "      <td>CC(=O)OCC[N+](C)(C)C</td>\n",
       "    </tr>\n",
       "    <tr>\n",
       "      <th>5</th>\n",
       "      <td>CID100002092</td>\n",
       "      <td>alfuzosin</td>\n",
       "      <td>Adrenergic receptor alpha-1D (ADRA1D)</td>\n",
       "      <td>CN(CCCNC(=O)C1CCCO1)C2=NC3=CC(=C(C=C3C(=N2)N)O...</td>\n",
       "    </tr>\n",
       "    <tr>\n",
       "      <th>...</th>\n",
       "      <td>...</td>\n",
       "      <td>...</td>\n",
       "      <td>...</td>\n",
       "      <td>...</td>\n",
       "    </tr>\n",
       "    <tr>\n",
       "      <th>338</th>\n",
       "      <td>CID100060490</td>\n",
       "      <td>zileuton</td>\n",
       "      <td>Arachidonate 5-lipoxygenase (5-LOX)</td>\n",
       "      <td>CC(C1=CC2=CC=CC=C2S1)N(C(=O)N)O</td>\n",
       "    </tr>\n",
       "    <tr>\n",
       "      <th>339</th>\n",
       "      <td>CID100004428</td>\n",
       "      <td>naltrexone</td>\n",
       "      <td>Opioid receptor (OPR)</td>\n",
       "      <td>C1CC1CN2CC[C@]34[C@@H]5C(=O)CC[C@]3([C@H]2CC6=...</td>\n",
       "    </tr>\n",
       "    <tr>\n",
       "      <th>345</th>\n",
       "      <td>CID104659569</td>\n",
       "      <td>tolcapone</td>\n",
       "      <td>Catechol-O-methyl-transferase (COMT)</td>\n",
       "      <td>CC1=CC=C(C=C1)C(=O)C2=CC(=C(C(=C2)O)O)[N+](=O)...</td>\n",
       "    </tr>\n",
       "    <tr>\n",
       "      <th>354</th>\n",
       "      <td>CID100003478</td>\n",
       "      <td>glipizide</td>\n",
       "      <td>Inward rectifier potassium channel Kir1.2 (KCN...</td>\n",
       "      <td>CC1=CN=C(C=N1)C(=O)NCCC2=CC=C(C=C2)S(=O)(=O)NC...</td>\n",
       "    </tr>\n",
       "    <tr>\n",
       "      <th>364</th>\n",
       "      <td>CID100004419</td>\n",
       "      <td>nalbuphine</td>\n",
       "      <td>Opioid receptor kappa (OPRK1)</td>\n",
       "      <td>C1CC(C1)CN2CC[C@]34[C@@H]5[C@H](CC[C@]3([C@H]2...</td>\n",
       "    </tr>\n",
       "  </tbody>\n",
       "</table>\n",
       "<p>194 rows × 4 columns</p>\n",
       "</div>"
      ],
      "text/plain": [
       "        CID_mainD       drugname  \\\n",
       "0    CID100032281     Protirelin   \n",
       "2    CID100132971    abiraterone   \n",
       "3    CID100041774       acarbose   \n",
       "4    CID100000187  acetylcholine   \n",
       "5    CID100002092      alfuzosin   \n",
       "..            ...            ...   \n",
       "338  CID100060490       zileuton   \n",
       "339  CID100004428     naltrexone   \n",
       "345  CID104659569      tolcapone   \n",
       "354  CID100003478      glipizide   \n",
       "364  CID100004419     nalbuphine   \n",
       "\n",
       "                                     Drug1_Target_Name  \\\n",
       "0        Thyrotropin-releasing hormone receptor (TRHR)   \n",
       "2               Steroid 17-alpha-monooxygenase (S17AH)   \n",
       "3               Intestinal maltase-glucoamylase (MGAM)   \n",
       "4             Muscarinic acetylcholine receptor (CHRM)   \n",
       "5                Adrenergic receptor alpha-1D (ADRA1D)   \n",
       "..                                                 ...   \n",
       "338                Arachidonate 5-lipoxygenase (5-LOX)   \n",
       "339                              Opioid receptor (OPR)   \n",
       "345               Catechol-O-methyl-transferase (COMT)   \n",
       "354  Inward rectifier potassium channel Kir1.2 (KCN...   \n",
       "364                      Opioid receptor kappa (OPRK1)   \n",
       "\n",
       "                                                Smiles  \n",
       "0    C1C[C@H](N(C1)C(=O)[C@H](CC2=CN=CN2)NC(=O)[C@@...  \n",
       "2    C[C@]12CC[C@@H](CC1=CC[C@@H]3[C@@H]2CC[C@]4([C...  \n",
       "3    C[C@@H]1C(C([C@H]([C@H](O1)O[C@@H]2[C@H](OC(C(...  \n",
       "4                                 CC(=O)OCC[N+](C)(C)C  \n",
       "5    CN(CCCNC(=O)C1CCCO1)C2=NC3=CC(=C(C=C3C(=N2)N)O...  \n",
       "..                                                 ...  \n",
       "338                    CC(C1=CC2=CC=CC=C2S1)N(C(=O)N)O  \n",
       "339  C1CC1CN2CC[C@]34[C@@H]5C(=O)CC[C@]3([C@H]2CC6=...  \n",
       "345  CC1=CC=C(C=C1)C(=O)C2=CC(=C(C(=C2)O)O)[N+](=O)...  \n",
       "354  CC1=CN=C(C=N1)C(=O)NCCC2=CC=C(C=C2)S(=O)(=O)NC...  \n",
       "364  C1CC(C1)CN2CC[C@]34[C@@H]5[C@H](CC[C@]3([C@H]2...  \n",
       "\n",
       "[194 rows x 4 columns]"
      ]
     },
     "execution_count": 14,
     "metadata": {},
     "output_type": "execute_result"
    }
   ],
   "source": [
    "df"
   ]
  },
  {
   "cell_type": "code",
   "execution_count": 15,
   "id": "573a518c",
   "metadata": {},
   "outputs": [],
   "source": [
    "df.to_csv('Table_13A_True_Negetive_Sider_Unique2.csv',index = False)"
   ]
  },
  {
   "cell_type": "code",
   "execution_count": null,
   "id": "ae082bba",
   "metadata": {},
   "outputs": [],
   "source": []
  },
  {
   "cell_type": "code",
   "execution_count": null,
   "id": "013b1da3",
   "metadata": {},
   "outputs": [],
   "source": []
  }
 ],
 "metadata": {
  "kernelspec": {
   "display_name": "Python 3",
   "language": "python",
   "name": "python3"
  },
  "language_info": {
   "codemirror_mode": {
    "name": "ipython",
    "version": 3
   },
   "file_extension": ".py",
   "mimetype": "text/x-python",
   "name": "python",
   "nbconvert_exporter": "python",
   "pygments_lexer": "ipython3",
   "version": "3.9.2"
  }
 },
 "nbformat": 4,
 "nbformat_minor": 5
}
