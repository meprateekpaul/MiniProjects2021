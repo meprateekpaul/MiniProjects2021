{
 "cells": [
  {
   "cell_type": "code",
   "execution_count": 39,
   "id": "b3fbd0b2",
   "metadata": {},
   "outputs": [],
   "source": [
    "import pandas as pd\n",
    "import numpy as np\n",
    "from tqdm import tqdm\n",
    "from pubchempy import Compound, get_compounds\n",
    "import pubchempy as pcp"
   ]
  },
  {
   "cell_type": "code",
   "execution_count": 16,
   "id": "13df1deb",
   "metadata": {},
   "outputs": [],
   "source": [
    "df=pd.read_csv('Table_13B_True_Negetive_offside_unique1.csv')"
   ]
  },
  {
   "cell_type": "code",
   "execution_count": 17,
   "id": "83bfaba0",
   "metadata": {},
   "outputs": [],
   "source": [
    "df=df.drop_duplicates()"
   ]
  },
  {
   "cell_type": "code",
   "execution_count": 23,
   "id": "0288a68c",
   "metadata": {},
   "outputs": [],
   "source": [
    "df=df[['drug_rxnorn_id_mainD','drugname','Drug1_Target_Name']]"
   ]
  },
  {
   "cell_type": "code",
   "execution_count": 25,
   "id": "59dc181c",
   "metadata": {},
   "outputs": [],
   "source": [
    "df=df.drop_duplicates()"
   ]
  },
  {
   "cell_type": "code",
   "execution_count": 36,
   "id": "2d0fdcab",
   "metadata": {},
   "outputs": [],
   "source": [
    "drugs=df['drugname'].values"
   ]
  },
  {
   "cell_type": "code",
   "execution_count": 37,
   "id": "7625b5fe",
   "metadata": {},
   "outputs": [
    {
     "data": {
      "text/plain": [
       "1005"
      ]
     },
     "execution_count": 37,
     "metadata": {},
     "output_type": "execute_result"
    }
   ],
   "source": [
    "len(drugs)"
   ]
  },
  {
   "cell_type": "code",
   "execution_count": 40,
   "id": "45a84695",
   "metadata": {},
   "outputs": [
    {
     "name": "stderr",
     "output_type": "stream",
     "text": [
      "100%|██████████████████████████████████████████████████████████████████████████████| 1005/1005 [32:01<00:00,  1.91s/it]\n"
     ]
    }
   ],
   "source": [
    "dict2={}\n",
    "for i in tqdm(drugs):\n",
    "    for compound in get_compounds(i,'name'):\n",
    "        dict2[i]=compound.isomeric_smiles"
   ]
  },
  {
   "cell_type": "code",
   "execution_count": 41,
   "id": "22b715dc",
   "metadata": {},
   "outputs": [
    {
     "name": "stderr",
     "output_type": "stream",
     "text": [
      "<ipython-input-41-213552b1c472>:1: SettingWithCopyWarning: \n",
      "A value is trying to be set on a copy of a slice from a DataFrame.\n",
      "Try using .loc[row_indexer,col_indexer] = value instead\n",
      "\n",
      "See the caveats in the documentation: https://pandas.pydata.org/pandas-docs/stable/user_guide/indexing.html#returning-a-view-versus-a-copy\n",
      "  df['Smiles'] = df['drugname'].map(dict2)\n"
     ]
    }
   ],
   "source": [
    "df['Smiles'] = df['drugname'].map(dict2)"
   ]
  },
  {
   "cell_type": "code",
   "execution_count": 42,
   "id": "48f30b6f",
   "metadata": {},
   "outputs": [
    {
     "data": {
      "text/html": [
       "<div>\n",
       "<style scoped>\n",
       "    .dataframe tbody tr th:only-of-type {\n",
       "        vertical-align: middle;\n",
       "    }\n",
       "\n",
       "    .dataframe tbody tr th {\n",
       "        vertical-align: top;\n",
       "    }\n",
       "\n",
       "    .dataframe thead th {\n",
       "        text-align: right;\n",
       "    }\n",
       "</style>\n",
       "<table border=\"1\" class=\"dataframe\">\n",
       "  <thead>\n",
       "    <tr style=\"text-align: right;\">\n",
       "      <th></th>\n",
       "      <th>drug_rxnorn_id_mainD</th>\n",
       "      <th>drugname</th>\n",
       "      <th>Drug1_Target_Name</th>\n",
       "      <th>Smiles</th>\n",
       "    </tr>\n",
       "  </thead>\n",
       "  <tbody>\n",
       "    <tr>\n",
       "      <th>0</th>\n",
       "      <td>10582</td>\n",
       "      <td>levothyroxine</td>\n",
       "      <td>Thyroid hormone receptor alpha (THRA)</td>\n",
       "      <td>C1=C(C=C(C(=C1I)OC2=CC(=C(C(=C2)I)O)I)I)C[C@@H...</td>\n",
       "    </tr>\n",
       "    <tr>\n",
       "      <th>1</th>\n",
       "      <td>6918</td>\n",
       "      <td>Metoprolol</td>\n",
       "      <td>Adrenergic receptor beta-1 (ADRB1)</td>\n",
       "      <td>CC(C)NCC(COC1=CC=C(C=C1)CCOC)O</td>\n",
       "    </tr>\n",
       "    <tr>\n",
       "      <th>3</th>\n",
       "      <td>283742</td>\n",
       "      <td>Esomeprazole</td>\n",
       "      <td>Gastric H(+)/K(+) ATPase (Proton pump)</td>\n",
       "      <td>CC1=CN=C(C(=C1OC)C)C[S@@](=O)C2=NC3=C(N2)C=C(C...</td>\n",
       "    </tr>\n",
       "    <tr>\n",
       "      <th>4</th>\n",
       "      <td>40790</td>\n",
       "      <td>pantoprazole</td>\n",
       "      <td>Gastric H(+)/K(+) ATPase (Proton pump)</td>\n",
       "      <td>COC1=C(C(=NC=C1)CS(=O)C2=NC3=C(N2)C=C(C=C3)OC(...</td>\n",
       "    </tr>\n",
       "    <tr>\n",
       "      <th>5</th>\n",
       "      <td>2598</td>\n",
       "      <td>Clonazepam</td>\n",
       "      <td>Gamma-aminobutyric acid receptor (GAR)</td>\n",
       "      <td>C1C(=O)NC2=C(C=C(C=C2)[N+](=O)[O-])C(=N1)C3=CC...</td>\n",
       "    </tr>\n",
       "    <tr>\n",
       "      <th>...</th>\n",
       "      <td>...</td>\n",
       "      <td>...</td>\n",
       "      <td>...</td>\n",
       "      <td>...</td>\n",
       "    </tr>\n",
       "    <tr>\n",
       "      <th>4084</th>\n",
       "      <td>190548</td>\n",
       "      <td>tipranavir</td>\n",
       "      <td>Human immunodeficiency virus Protease (HIV PR)</td>\n",
       "      <td>CCC[C@]1(CC(=C(C(=O)O1)[C@H](CC)C2=CC(=CC=C2)N...</td>\n",
       "    </tr>\n",
       "    <tr>\n",
       "      <th>4193</th>\n",
       "      <td>358257</td>\n",
       "      <td>tolvaptan</td>\n",
       "      <td>Vasopressin V2 receptor (V2R)</td>\n",
       "      <td>CC1=CC=CC=C1C(=O)NC2=CC(=C(C=C2)C(=O)N3CCCC(C4...</td>\n",
       "    </tr>\n",
       "    <tr>\n",
       "      <th>4216</th>\n",
       "      <td>194279</td>\n",
       "      <td>palivizumab</td>\n",
       "      <td>Respiratory syncytial virus protein F (RSV F)</td>\n",
       "      <td>NaN</td>\n",
       "    </tr>\n",
       "    <tr>\n",
       "      <th>4219</th>\n",
       "      <td>1302966</td>\n",
       "      <td>carfilzomib</td>\n",
       "      <td>Proteasome (PS)</td>\n",
       "      <td>CC(C)C[C@@H](C(=O)[C@]1(CO1)C)NC(=O)[C@H](CC2=...</td>\n",
       "    </tr>\n",
       "    <tr>\n",
       "      <th>4244</th>\n",
       "      <td>4440</td>\n",
       "      <td>Flavoxate</td>\n",
       "      <td>Muscarinic acetylcholine receptor M5 (CHRM5)</td>\n",
       "      <td>CC1=C(OC2=C(C1=O)C=CC=C2C(=O)OCCN3CCCCC3)C4=CC...</td>\n",
       "    </tr>\n",
       "  </tbody>\n",
       "</table>\n",
       "<p>1005 rows × 4 columns</p>\n",
       "</div>"
      ],
      "text/plain": [
       "      drug_rxnorn_id_mainD       drugname  \\\n",
       "0                    10582  levothyroxine   \n",
       "1                     6918     Metoprolol   \n",
       "3                   283742   Esomeprazole   \n",
       "4                    40790   pantoprazole   \n",
       "5                     2598     Clonazepam   \n",
       "...                    ...            ...   \n",
       "4084                190548     tipranavir   \n",
       "4193                358257      tolvaptan   \n",
       "4216                194279    palivizumab   \n",
       "4219               1302966    carfilzomib   \n",
       "4244                  4440      Flavoxate   \n",
       "\n",
       "                                   Drug1_Target_Name  \\\n",
       "0              Thyroid hormone receptor alpha (THRA)   \n",
       "1                 Adrenergic receptor beta-1 (ADRB1)   \n",
       "3             Gastric H(+)/K(+) ATPase (Proton pump)   \n",
       "4             Gastric H(+)/K(+) ATPase (Proton pump)   \n",
       "5             Gamma-aminobutyric acid receptor (GAR)   \n",
       "...                                              ...   \n",
       "4084  Human immunodeficiency virus Protease (HIV PR)   \n",
       "4193                   Vasopressin V2 receptor (V2R)   \n",
       "4216   Respiratory syncytial virus protein F (RSV F)   \n",
       "4219                                 Proteasome (PS)   \n",
       "4244    Muscarinic acetylcholine receptor M5 (CHRM5)   \n",
       "\n",
       "                                                 Smiles  \n",
       "0     C1=C(C=C(C(=C1I)OC2=CC(=C(C(=C2)I)O)I)I)C[C@@H...  \n",
       "1                        CC(C)NCC(COC1=CC=C(C=C1)CCOC)O  \n",
       "3     CC1=CN=C(C(=C1OC)C)C[S@@](=O)C2=NC3=C(N2)C=C(C...  \n",
       "4     COC1=C(C(=NC=C1)CS(=O)C2=NC3=C(N2)C=C(C=C3)OC(...  \n",
       "5     C1C(=O)NC2=C(C=C(C=C2)[N+](=O)[O-])C(=N1)C3=CC...  \n",
       "...                                                 ...  \n",
       "4084  CCC[C@]1(CC(=C(C(=O)O1)[C@H](CC)C2=CC(=CC=C2)N...  \n",
       "4193  CC1=CC=CC=C1C(=O)NC2=CC(=C(C=C2)C(=O)N3CCCC(C4...  \n",
       "4216                                                NaN  \n",
       "4219  CC(C)C[C@@H](C(=O)[C@]1(CO1)C)NC(=O)[C@H](CC2=...  \n",
       "4244  CC1=C(OC2=C(C1=O)C=CC=C2C(=O)OCCN3CCCCC3)C4=CC...  \n",
       "\n",
       "[1005 rows x 4 columns]"
      ]
     },
     "execution_count": 42,
     "metadata": {},
     "output_type": "execute_result"
    }
   ],
   "source": [
    "df"
   ]
  },
  {
   "cell_type": "code",
   "execution_count": 43,
   "id": "573a518c",
   "metadata": {},
   "outputs": [],
   "source": [
    "df.to_csv('Table_13B_True_Negetive_Offside_Unique2.csv',index = False)"
   ]
  },
  {
   "cell_type": "code",
   "execution_count": null,
   "id": "ae082bba",
   "metadata": {},
   "outputs": [],
   "source": []
  },
  {
   "cell_type": "code",
   "execution_count": null,
   "id": "013b1da3",
   "metadata": {},
   "outputs": [],
   "source": []
  }
 ],
 "metadata": {
  "kernelspec": {
   "display_name": "Python 3",
   "language": "python",
   "name": "python3"
  },
  "language_info": {
   "codemirror_mode": {
    "name": "ipython",
    "version": 3
   },
   "file_extension": ".py",
   "mimetype": "text/x-python",
   "name": "python",
   "nbconvert_exporter": "python",
   "pygments_lexer": "ipython3",
   "version": "3.9.2"
  }
 },
 "nbformat": 4,
 "nbformat_minor": 5
}
