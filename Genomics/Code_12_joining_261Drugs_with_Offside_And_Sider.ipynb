{
 "cells": [
  {
   "cell_type": "code",
   "execution_count": 1,
   "id": "d7a4b11a",
   "metadata": {},
   "outputs": [],
   "source": [
    "import pandas as pd\n",
    "import numpy as np\n",
    "from tqdm import tqdm"
   ]
  },
  {
   "cell_type": "code",
   "execution_count": 2,
   "id": "1d768bb7",
   "metadata": {},
   "outputs": [],
   "source": [
    "df = pd.read_csv('S2_Duplicates_removed.csv')\n",
    "df2= pd.read_csv('S2_Duplicates_removed.csv')\n",
    "length=len(df)"
   ]
  },
  {
   "cell_type": "code",
   "execution_count": 3,
   "id": "2518f19f",
   "metadata": {},
   "outputs": [
    {
     "data": {
      "text/html": [
       "<div>\n",
       "<style scoped>\n",
       "    .dataframe tbody tr th:only-of-type {\n",
       "        vertical-align: middle;\n",
       "    }\n",
       "\n",
       "    .dataframe tbody tr th {\n",
       "        vertical-align: top;\n",
       "    }\n",
       "\n",
       "    .dataframe thead th {\n",
       "        text-align: right;\n",
       "    }\n",
       "</style>\n",
       "<table border=\"1\" class=\"dataframe\">\n",
       "  <thead>\n",
       "    <tr style=\"text-align: right;\">\n",
       "      <th></th>\n",
       "      <th>DRUG_NAME</th>\n",
       "      <th>DRUG_ID</th>\n",
       "      <th>SMILES</th>\n",
       "    </tr>\n",
       "  </thead>\n",
       "  <tbody>\n",
       "    <tr>\n",
       "      <th>0</th>\n",
       "      <td>cyclosporin</td>\n",
       "      <td>DB00091</td>\n",
       "      <td>CC[C@@H]1NC(=O)[C@H]([C@H](O)[C@H](C)C\\C=C\\C)N...</td>\n",
       "    </tr>\n",
       "    <tr>\n",
       "      <th>1</th>\n",
       "      <td>fluvoxamine</td>\n",
       "      <td>DB00176</td>\n",
       "      <td>COCCCC\\C(=N/OCCN)C1=CC=C(C=C1)C(F)(F)F</td>\n",
       "    </tr>\n",
       "    <tr>\n",
       "      <th>2</th>\n",
       "      <td>Masoprocol</td>\n",
       "      <td>DB00179</td>\n",
       "      <td>C[C@@H](CC1=CC(O)=C(O)C=C1)[C@H](C)CC1=CC(O)=C...</td>\n",
       "    </tr>\n",
       "    <tr>\n",
       "      <th>3</th>\n",
       "      <td>Bortezomib</td>\n",
       "      <td>DB00188</td>\n",
       "      <td>CC(C)C[C@H](NC(=O)[C@H](CC1=CC=CC=C1)NC(=O)C1=...</td>\n",
       "    </tr>\n",
       "    <tr>\n",
       "      <th>4</th>\n",
       "      <td>Tramadol</td>\n",
       "      <td>DB00193</td>\n",
       "      <td>COC1=CC=CC(=C1)[C@@]1(O)CCCC[C@@H]1CN(C)C</td>\n",
       "    </tr>\n",
       "    <tr>\n",
       "      <th>...</th>\n",
       "      <td>...</td>\n",
       "      <td>...</td>\n",
       "      <td>...</td>\n",
       "    </tr>\n",
       "    <tr>\n",
       "      <th>256</th>\n",
       "      <td>Remdesvir</td>\n",
       "      <td>DB14761</td>\n",
       "      <td>CCC(CC)COC(=O)[C@H](C)N[P@](=O)(OC[C@H]1O[C@](...</td>\n",
       "    </tr>\n",
       "    <tr>\n",
       "      <th>257</th>\n",
       "      <td>EIDD-1931</td>\n",
       "      <td>DB15660</td>\n",
       "      <td>OC[C@H]1O[C@H]([C@H](O)[C@@H]1O)N1C=CC(NO)=NC1=O</td>\n",
       "    </tr>\n",
       "    <tr>\n",
       "      <th>258</th>\n",
       "      <td>EIDD-2801</td>\n",
       "      <td>DB15661</td>\n",
       "      <td>CC(C)C(=O)OC[C@H]1O[C@H]([C@H](O)[C@@H]1O)N1C=...</td>\n",
       "    </tr>\n",
       "    <tr>\n",
       "      <th>259</th>\n",
       "      <td>Baloxavir</td>\n",
       "      <td>DB15675</td>\n",
       "      <td>[H][C@@]12COCCN1C(=O)C1=C(O)C(=O)C=CN1N2[C@@H]...</td>\n",
       "    </tr>\n",
       "    <tr>\n",
       "      <th>260</th>\n",
       "      <td>zotatifin</td>\n",
       "      <td>DB16408</td>\n",
       "      <td>COC1=NC(OC)=C2C(O[C@]3([C@@H]([C@@H](CN(C)C)[C...</td>\n",
       "    </tr>\n",
       "  </tbody>\n",
       "</table>\n",
       "<p>261 rows × 3 columns</p>\n",
       "</div>"
      ],
      "text/plain": [
       "       DRUG_NAME  DRUG_ID                                             SMILES\n",
       "0    cyclosporin  DB00091  CC[C@@H]1NC(=O)[C@H]([C@H](O)[C@H](C)C\\C=C\\C)N...\n",
       "1    fluvoxamine  DB00176             COCCCC\\C(=N/OCCN)C1=CC=C(C=C1)C(F)(F)F\n",
       "2     Masoprocol  DB00179  C[C@@H](CC1=CC(O)=C(O)C=C1)[C@H](C)CC1=CC(O)=C...\n",
       "3     Bortezomib  DB00188  CC(C)C[C@H](NC(=O)[C@H](CC1=CC=CC=C1)NC(=O)C1=...\n",
       "4       Tramadol  DB00193          COC1=CC=CC(=C1)[C@@]1(O)CCCC[C@@H]1CN(C)C\n",
       "..           ...      ...                                                ...\n",
       "256    Remdesvir  DB14761  CCC(CC)COC(=O)[C@H](C)N[P@](=O)(OC[C@H]1O[C@](...\n",
       "257    EIDD-1931  DB15660   OC[C@H]1O[C@H]([C@H](O)[C@@H]1O)N1C=CC(NO)=NC1=O\n",
       "258    EIDD-2801  DB15661  CC(C)C(=O)OC[C@H]1O[C@H]([C@H](O)[C@@H]1O)N1C=...\n",
       "259    Baloxavir  DB15675  [H][C@@]12COCCN1C(=O)C1=C(O)C(=O)C=CN1N2[C@@H]...\n",
       "260    zotatifin  DB16408  COC1=NC(OC)=C2C(O[C@]3([C@@H]([C@@H](CN(C)C)[C...\n",
       "\n",
       "[261 rows x 3 columns]"
      ]
     },
     "execution_count": 3,
     "metadata": {},
     "output_type": "execute_result"
    }
   ],
   "source": [
    "df"
   ]
  },
  {
   "cell_type": "code",
   "execution_count": 6,
   "id": "6211d24b",
   "metadata": {},
   "outputs": [
    {
     "name": "stdout",
     "output_type": "stream",
     "text": [
      "<class 'pandas.core.frame.DataFrame'>\n",
      "RangeIndex: 1347 entries, 0 to 1346\n",
      "Data columns (total 5 columns):\n",
      " #   Column             Non-Null Count  Dtype \n",
      "---  ------             --------------  ----- \n",
      " 0   Unnamed: 0         1347 non-null   int64 \n",
      " 1   CID                1347 non-null   object\n",
      " 2   drugname           1347 non-null   object\n",
      " 3   no_of_side_effect  1347 non-null   int64 \n",
      " 4   side_effect_name   1347 non-null   object\n",
      "dtypes: int64(2), object(3)\n",
      "memory usage: 52.7+ KB\n"
     ]
    }
   ],
   "source": [
    "df_sider=pd.read_csv('NEW_Table_2B_cid_drug_no_effect.csv')\n",
    "df_sider.info()"
   ]
  },
  {
   "cell_type": "code",
   "execution_count": 7,
   "id": "1c5a5801",
   "metadata": {},
   "outputs": [
    {
     "name": "stdout",
     "output_type": "stream",
     "text": [
      "<class 'pandas.core.frame.DataFrame'>\n",
      "RangeIndex: 2786 entries, 0 to 2785\n",
      "Data columns (total 6 columns):\n",
      " #   Column              Non-Null Count  Dtype \n",
      "---  ------              --------------  ----- \n",
      " 0   Unnamed: 0          2786 non-null   int64 \n",
      " 1   index               2786 non-null   int64 \n",
      " 2   drug_rxnorn_id      2786 non-null   int64 \n",
      " 3   drug_concept_name   2786 non-null   object\n",
      " 4   SideEffectsOffSide  2786 non-null   object\n",
      " 5   NoOfSideEffects     2786 non-null   int64 \n",
      "dtypes: int64(4), object(2)\n",
      "memory usage: 130.7+ KB\n"
     ]
    }
   ],
   "source": [
    "df_offside=pd.read_csv('NEW_Table_2C_rxnorn_id_drug_no_effect_offside.csv')\n",
    "df_offside.info()"
   ]
  },
  {
   "cell_type": "code",
   "execution_count": 8,
   "id": "4a6295b3",
   "metadata": {},
   "outputs": [],
   "source": [
    "def mapping(df,dfkey,dfvalue):\n",
    "    key=dfkey\n",
    "    value=dfvalue\n",
    "    dictionary={}\n",
    "\n",
    "    for i in range(len(df)):\n",
    "        dictionary[key[i]]=value[i]\n",
    "        \n",
    "    return dictionary"
   ]
  },
  {
   "cell_type": "code",
   "execution_count": 9,
   "id": "19f80ca9",
   "metadata": {},
   "outputs": [],
   "source": [
    "s1=mapping(df_sider,df_sider['drugname'].str.lower(),df_sider['side_effect_name'])"
   ]
  },
  {
   "cell_type": "code",
   "execution_count": 10,
   "id": "ee5c1dca",
   "metadata": {},
   "outputs": [],
   "source": [
    "df['Sider_effects'] = df['DRUG_NAME'].str.lower().map(s1)"
   ]
  },
  {
   "cell_type": "code",
   "execution_count": 11,
   "id": "2beef9fa",
   "metadata": {},
   "outputs": [
    {
     "data": {
      "text/plain": [
       "DRUG_NAME          0\n",
       "DRUG_ID            0\n",
       "SMILES             0\n",
       "Sider_effects    130\n",
       "dtype: int64"
      ]
     },
     "execution_count": 11,
     "metadata": {},
     "output_type": "execute_result"
    }
   ],
   "source": [
    "df.isnull().sum()"
   ]
  },
  {
   "cell_type": "code",
   "execution_count": 12,
   "id": "126a4208",
   "metadata": {},
   "outputs": [],
   "source": [
    "o1=mapping(df_offside,df_offside['drug_concept_name'].str.lower(),df_offside['SideEffectsOffSide'])\n",
    "df['Offside_effects'] = df['DRUG_NAME'].str.lower().map(o1)"
   ]
  },
  {
   "cell_type": "code",
   "execution_count": 13,
   "id": "b6be5e54",
   "metadata": {},
   "outputs": [
    {
     "data": {
      "text/html": [
       "<div>\n",
       "<style scoped>\n",
       "    .dataframe tbody tr th:only-of-type {\n",
       "        vertical-align: middle;\n",
       "    }\n",
       "\n",
       "    .dataframe tbody tr th {\n",
       "        vertical-align: top;\n",
       "    }\n",
       "\n",
       "    .dataframe thead th {\n",
       "        text-align: right;\n",
       "    }\n",
       "</style>\n",
       "<table border=\"1\" class=\"dataframe\">\n",
       "  <thead>\n",
       "    <tr style=\"text-align: right;\">\n",
       "      <th></th>\n",
       "      <th>DRUG_NAME</th>\n",
       "      <th>DRUG_ID</th>\n",
       "      <th>SMILES</th>\n",
       "      <th>Sider_effects</th>\n",
       "      <th>Offside_effects</th>\n",
       "    </tr>\n",
       "  </thead>\n",
       "  <tbody>\n",
       "    <tr>\n",
       "      <th>0</th>\n",
       "      <td>cyclosporin</td>\n",
       "      <td>DB00091</td>\n",
       "      <td>CC[C@@H]1NC(=O)[C@H]([C@H](O)[C@H](C)C\\C=C\\C)N...</td>\n",
       "      <td>NaN</td>\n",
       "      <td>NaN</td>\n",
       "    </tr>\n",
       "    <tr>\n",
       "      <th>1</th>\n",
       "      <td>fluvoxamine</td>\n",
       "      <td>DB00176</td>\n",
       "      <td>COCCCC\\C(=N/OCCN)C1=CC=C(C=C1)C(F)(F)F</td>\n",
       "      <td>['Abdominal discomfort', 'Abdominal distension...</td>\n",
       "      <td>['Anaemia', 'Anaemia postoperative', 'Conjunct...</td>\n",
       "    </tr>\n",
       "    <tr>\n",
       "      <th>2</th>\n",
       "      <td>Masoprocol</td>\n",
       "      <td>DB00179</td>\n",
       "      <td>C[C@@H](CC1=CC(O)=C(O)C=C1)[C@H](C)CC1=CC(O)=C...</td>\n",
       "      <td>NaN</td>\n",
       "      <td>NaN</td>\n",
       "    </tr>\n",
       "    <tr>\n",
       "      <th>3</th>\n",
       "      <td>Bortezomib</td>\n",
       "      <td>DB00188</td>\n",
       "      <td>CC(C)C[C@H](NC(=O)[C@H](CC1=CC=CC=C1)NC(=O)C1=...</td>\n",
       "      <td>['Abdominal discomfort', 'Abdominal distension...</td>\n",
       "      <td>['Iron deficiency anaemia', 'Pernicious anaemi...</td>\n",
       "    </tr>\n",
       "    <tr>\n",
       "      <th>4</th>\n",
       "      <td>Tramadol</td>\n",
       "      <td>DB00193</td>\n",
       "      <td>COC1=CC=CC(=C1)[C@@]1(O)CCCC[C@@H]1CN(C)C</td>\n",
       "      <td>['Abdominal bloating', 'Abdominal discomfort',...</td>\n",
       "      <td>['Anaemia vitamin B12 deficiency', 'Deficiency...</td>\n",
       "    </tr>\n",
       "    <tr>\n",
       "      <th>...</th>\n",
       "      <td>...</td>\n",
       "      <td>...</td>\n",
       "      <td>...</td>\n",
       "      <td>...</td>\n",
       "      <td>...</td>\n",
       "    </tr>\n",
       "    <tr>\n",
       "      <th>256</th>\n",
       "      <td>Remdesvir</td>\n",
       "      <td>DB14761</td>\n",
       "      <td>CCC(CC)COC(=O)[C@H](C)N[P@](=O)(OC[C@H]1O[C@](...</td>\n",
       "      <td>NaN</td>\n",
       "      <td>NaN</td>\n",
       "    </tr>\n",
       "    <tr>\n",
       "      <th>257</th>\n",
       "      <td>EIDD-1931</td>\n",
       "      <td>DB15660</td>\n",
       "      <td>OC[C@H]1O[C@H]([C@H](O)[C@@H]1O)N1C=CC(NO)=NC1=O</td>\n",
       "      <td>NaN</td>\n",
       "      <td>NaN</td>\n",
       "    </tr>\n",
       "    <tr>\n",
       "      <th>258</th>\n",
       "      <td>EIDD-2801</td>\n",
       "      <td>DB15661</td>\n",
       "      <td>CC(C)C(=O)OC[C@H]1O[C@H]([C@H](O)[C@@H]1O)N1C=...</td>\n",
       "      <td>NaN</td>\n",
       "      <td>NaN</td>\n",
       "    </tr>\n",
       "    <tr>\n",
       "      <th>259</th>\n",
       "      <td>Baloxavir</td>\n",
       "      <td>DB15675</td>\n",
       "      <td>[H][C@@]12COCCN1C(=O)C1=C(O)C(=O)C=CN1N2[C@@H]...</td>\n",
       "      <td>NaN</td>\n",
       "      <td>NaN</td>\n",
       "    </tr>\n",
       "    <tr>\n",
       "      <th>260</th>\n",
       "      <td>zotatifin</td>\n",
       "      <td>DB16408</td>\n",
       "      <td>COC1=NC(OC)=C2C(O[C@]3([C@@H]([C@@H](CN(C)C)[C...</td>\n",
       "      <td>NaN</td>\n",
       "      <td>NaN</td>\n",
       "    </tr>\n",
       "  </tbody>\n",
       "</table>\n",
       "<p>261 rows × 5 columns</p>\n",
       "</div>"
      ],
      "text/plain": [
       "       DRUG_NAME  DRUG_ID                                             SMILES  \\\n",
       "0    cyclosporin  DB00091  CC[C@@H]1NC(=O)[C@H]([C@H](O)[C@H](C)C\\C=C\\C)N...   \n",
       "1    fluvoxamine  DB00176             COCCCC\\C(=N/OCCN)C1=CC=C(C=C1)C(F)(F)F   \n",
       "2     Masoprocol  DB00179  C[C@@H](CC1=CC(O)=C(O)C=C1)[C@H](C)CC1=CC(O)=C...   \n",
       "3     Bortezomib  DB00188  CC(C)C[C@H](NC(=O)[C@H](CC1=CC=CC=C1)NC(=O)C1=...   \n",
       "4       Tramadol  DB00193          COC1=CC=CC(=C1)[C@@]1(O)CCCC[C@@H]1CN(C)C   \n",
       "..           ...      ...                                                ...   \n",
       "256    Remdesvir  DB14761  CCC(CC)COC(=O)[C@H](C)N[P@](=O)(OC[C@H]1O[C@](...   \n",
       "257    EIDD-1931  DB15660   OC[C@H]1O[C@H]([C@H](O)[C@@H]1O)N1C=CC(NO)=NC1=O   \n",
       "258    EIDD-2801  DB15661  CC(C)C(=O)OC[C@H]1O[C@H]([C@H](O)[C@@H]1O)N1C=...   \n",
       "259    Baloxavir  DB15675  [H][C@@]12COCCN1C(=O)C1=C(O)C(=O)C=CN1N2[C@@H]...   \n",
       "260    zotatifin  DB16408  COC1=NC(OC)=C2C(O[C@]3([C@@H]([C@@H](CN(C)C)[C...   \n",
       "\n",
       "                                         Sider_effects  \\\n",
       "0                                                  NaN   \n",
       "1    ['Abdominal discomfort', 'Abdominal distension...   \n",
       "2                                                  NaN   \n",
       "3    ['Abdominal discomfort', 'Abdominal distension...   \n",
       "4    ['Abdominal bloating', 'Abdominal discomfort',...   \n",
       "..                                                 ...   \n",
       "256                                                NaN   \n",
       "257                                                NaN   \n",
       "258                                                NaN   \n",
       "259                                                NaN   \n",
       "260                                                NaN   \n",
       "\n",
       "                                       Offside_effects  \n",
       "0                                                  NaN  \n",
       "1    ['Anaemia', 'Anaemia postoperative', 'Conjunct...  \n",
       "2                                                  NaN  \n",
       "3    ['Iron deficiency anaemia', 'Pernicious anaemi...  \n",
       "4    ['Anaemia vitamin B12 deficiency', 'Deficiency...  \n",
       "..                                                 ...  \n",
       "256                                                NaN  \n",
       "257                                                NaN  \n",
       "258                                                NaN  \n",
       "259                                                NaN  \n",
       "260                                                NaN  \n",
       "\n",
       "[261 rows x 5 columns]"
      ]
     },
     "execution_count": 13,
     "metadata": {},
     "output_type": "execute_result"
    }
   ],
   "source": [
    "df"
   ]
  },
  {
   "cell_type": "code",
   "execution_count": 14,
   "id": "181dc814",
   "metadata": {},
   "outputs": [
    {
     "data": {
      "text/html": [
       "<div>\n",
       "<style scoped>\n",
       "    .dataframe tbody tr th:only-of-type {\n",
       "        vertical-align: middle;\n",
       "    }\n",
       "\n",
       "    .dataframe tbody tr th {\n",
       "        vertical-align: top;\n",
       "    }\n",
       "\n",
       "    .dataframe thead th {\n",
       "        text-align: right;\n",
       "    }\n",
       "</style>\n",
       "<table border=\"1\" class=\"dataframe\">\n",
       "  <thead>\n",
       "    <tr style=\"text-align: right;\">\n",
       "      <th></th>\n",
       "      <th>DRUG_NAME</th>\n",
       "      <th>DRUG_ID</th>\n",
       "      <th>SMILES</th>\n",
       "      <th>Sider_effects</th>\n",
       "      <th>Offside_effects</th>\n",
       "    </tr>\n",
       "  </thead>\n",
       "  <tbody>\n",
       "    <tr>\n",
       "      <th>count</th>\n",
       "      <td>261</td>\n",
       "      <td>261</td>\n",
       "      <td>261</td>\n",
       "      <td>131</td>\n",
       "      <td>165</td>\n",
       "    </tr>\n",
       "    <tr>\n",
       "      <th>unique</th>\n",
       "      <td>261</td>\n",
       "      <td>261</td>\n",
       "      <td>261</td>\n",
       "      <td>131</td>\n",
       "      <td>165</td>\n",
       "    </tr>\n",
       "    <tr>\n",
       "      <th>top</th>\n",
       "      <td>Talampicillin</td>\n",
       "      <td>DB16408</td>\n",
       "      <td>CC(=O)N[C@@H](CS)C(O)=O</td>\n",
       "      <td>['Abnormal dreams', 'Agitation', 'Agranulocyto...</td>\n",
       "      <td>['Iron deficiency anaemia', 'Pernicious anaemi...</td>\n",
       "    </tr>\n",
       "    <tr>\n",
       "      <th>freq</th>\n",
       "      <td>1</td>\n",
       "      <td>1</td>\n",
       "      <td>1</td>\n",
       "      <td>1</td>\n",
       "      <td>1</td>\n",
       "    </tr>\n",
       "  </tbody>\n",
       "</table>\n",
       "</div>"
      ],
      "text/plain": [
       "            DRUG_NAME  DRUG_ID                   SMILES  \\\n",
       "count             261      261                      261   \n",
       "unique            261      261                      261   \n",
       "top     Talampicillin  DB16408  CC(=O)N[C@@H](CS)C(O)=O   \n",
       "freq                1        1                        1   \n",
       "\n",
       "                                            Sider_effects  \\\n",
       "count                                                 131   \n",
       "unique                                                131   \n",
       "top     ['Abnormal dreams', 'Agitation', 'Agranulocyto...   \n",
       "freq                                                    1   \n",
       "\n",
       "                                          Offside_effects  \n",
       "count                                                 165  \n",
       "unique                                                165  \n",
       "top     ['Iron deficiency anaemia', 'Pernicious anaemi...  \n",
       "freq                                                    1  "
      ]
     },
     "execution_count": 14,
     "metadata": {},
     "output_type": "execute_result"
    }
   ],
   "source": [
    "df.describe()"
   ]
  },
  {
   "cell_type": "code",
   "execution_count": 15,
   "id": "82e82f3b",
   "metadata": {},
   "outputs": [
    {
     "data": {
      "text/plain": [
       "DRUG_NAME            0\n",
       "DRUG_ID              0\n",
       "SMILES               0\n",
       "Sider_effects      130\n",
       "Offside_effects     96\n",
       "dtype: int64"
      ]
     },
     "execution_count": 15,
     "metadata": {},
     "output_type": "execute_result"
    }
   ],
   "source": [
    "df.isnull().sum()"
   ]
  },
  {
   "cell_type": "code",
   "execution_count": 16,
   "id": "1542d65a",
   "metadata": {},
   "outputs": [],
   "source": [
    "df=df.dropna(subset=['Sider_effects','Offside_effects'], how='all')"
   ]
  },
  {
   "cell_type": "code",
   "execution_count": 17,
   "id": "16b4e2a4",
   "metadata": {},
   "outputs": [
    {
     "data": {
      "text/plain": [
       "DRUG_NAME           0\n",
       "DRUG_ID             0\n",
       "SMILES              0\n",
       "Sider_effects      36\n",
       "Offside_effects     2\n",
       "dtype: int64"
      ]
     },
     "execution_count": 17,
     "metadata": {},
     "output_type": "execute_result"
    }
   ],
   "source": [
    "df.isnull().sum()"
   ]
  },
  {
   "cell_type": "code",
   "execution_count": 18,
   "id": "cc2b8c1c",
   "metadata": {},
   "outputs": [
    {
     "data": {
      "text/html": [
       "<div>\n",
       "<style scoped>\n",
       "    .dataframe tbody tr th:only-of-type {\n",
       "        vertical-align: middle;\n",
       "    }\n",
       "\n",
       "    .dataframe tbody tr th {\n",
       "        vertical-align: top;\n",
       "    }\n",
       "\n",
       "    .dataframe thead th {\n",
       "        text-align: right;\n",
       "    }\n",
       "</style>\n",
       "<table border=\"1\" class=\"dataframe\">\n",
       "  <thead>\n",
       "    <tr style=\"text-align: right;\">\n",
       "      <th></th>\n",
       "      <th>DRUG_NAME</th>\n",
       "      <th>DRUG_ID</th>\n",
       "      <th>SMILES</th>\n",
       "      <th>Sider_effects</th>\n",
       "      <th>Offside_effects</th>\n",
       "    </tr>\n",
       "  </thead>\n",
       "  <tbody>\n",
       "    <tr>\n",
       "      <th>1</th>\n",
       "      <td>fluvoxamine</td>\n",
       "      <td>DB00176</td>\n",
       "      <td>COCCCC\\C(=N/OCCN)C1=CC=C(C=C1)C(F)(F)F</td>\n",
       "      <td>['Abdominal discomfort', 'Abdominal distension...</td>\n",
       "      <td>['Anaemia', 'Anaemia postoperative', 'Conjunct...</td>\n",
       "    </tr>\n",
       "    <tr>\n",
       "      <th>3</th>\n",
       "      <td>Bortezomib</td>\n",
       "      <td>DB00188</td>\n",
       "      <td>CC(C)C[C@H](NC(=O)[C@H](CC1=CC=CC=C1)NC(=O)C1=...</td>\n",
       "      <td>['Abdominal discomfort', 'Abdominal distension...</td>\n",
       "      <td>['Iron deficiency anaemia', 'Pernicious anaemi...</td>\n",
       "    </tr>\n",
       "    <tr>\n",
       "      <th>4</th>\n",
       "      <td>Tramadol</td>\n",
       "      <td>DB00193</td>\n",
       "      <td>COC1=CC=CC(=C1)[C@@]1(O)CCCC[C@@H]1CN(C)C</td>\n",
       "      <td>['Abdominal bloating', 'Abdominal discomfort',...</td>\n",
       "      <td>['Anaemia vitamin B12 deficiency', 'Deficiency...</td>\n",
       "    </tr>\n",
       "    <tr>\n",
       "      <th>5</th>\n",
       "      <td>Oseltamivir</td>\n",
       "      <td>DB00198</td>\n",
       "      <td>CCOC(=O)C1=C[C@@H](OC(CC)CC)[C@H](NC(C)=O)[C@@...</td>\n",
       "      <td>['Abdominal pain', 'Abdominal pain upper', 'Ab...</td>\n",
       "      <td>['Iron deficiency anaemia', 'Anaemia', 'Anaemi...</td>\n",
       "    </tr>\n",
       "    <tr>\n",
       "      <th>6</th>\n",
       "      <td>Erythromycin</td>\n",
       "      <td>DB00199</td>\n",
       "      <td>CC[C@H]1OC(=O)[C@H](C)[C@@H](O[C@H]2C[C@@](C)(...</td>\n",
       "      <td>['Abdominal cramps', 'Abdominal discomfort', '...</td>\n",
       "      <td>['Iron deficiency anaemia', 'Pernicious anaemi...</td>\n",
       "    </tr>\n",
       "    <tr>\n",
       "      <th>...</th>\n",
       "      <td>...</td>\n",
       "      <td>...</td>\n",
       "      <td>...</td>\n",
       "      <td>...</td>\n",
       "      <td>...</td>\n",
       "    </tr>\n",
       "    <tr>\n",
       "      <th>227</th>\n",
       "      <td>thymopentin</td>\n",
       "      <td>DB11996</td>\n",
       "      <td>CC(C)C(NC(=O)[C@H](CC(O)=O)NC(=O)[C@H](CCCCN)N...</td>\n",
       "      <td>NaN</td>\n",
       "      <td>['Dizziness', 'Pyrexia', 'Chills', 'Drug ineff...</td>\n",
       "    </tr>\n",
       "    <tr>\n",
       "      <th>239</th>\n",
       "      <td>benserazide</td>\n",
       "      <td>DB12783</td>\n",
       "      <td>NC(CO)C(=O)NNCC1=C(O)C(O)=C(O)C=C1</td>\n",
       "      <td>NaN</td>\n",
       "      <td>['Iron deficiency anaemia', 'Anaemia', 'Anaemi...</td>\n",
       "    </tr>\n",
       "    <tr>\n",
       "      <th>240</th>\n",
       "      <td>Dinoprost</td>\n",
       "      <td>DB12789</td>\n",
       "      <td>[H]\\C(CCCC(O)=O)=C(/[H])C[C@@]1([H])[C@@]([H])...</td>\n",
       "      <td>NaN</td>\n",
       "      <td>['Thrombocytopenia', 'Leukopenia', 'Neutropeni...</td>\n",
       "    </tr>\n",
       "    <tr>\n",
       "      <th>243</th>\n",
       "      <td>Hypericin</td>\n",
       "      <td>DB13014</td>\n",
       "      <td>CC1=C2C3=C(C)C=C(O)C4=C3C3=C5C2=C(C(O)=C1)C(=O...</td>\n",
       "      <td>NaN</td>\n",
       "      <td>['Coagulopathy', 'Atrial fibrillation', 'Sudde...</td>\n",
       "    </tr>\n",
       "    <tr>\n",
       "      <th>246</th>\n",
       "      <td>Bamifylline</td>\n",
       "      <td>DB13203</td>\n",
       "      <td>CCN(CCO)CCN1C(CC2=CC=CC=C2)=NC2=C1C(=O)N(C)C(=...</td>\n",
       "      <td>NaN</td>\n",
       "      <td>['Anaemia', 'Spontaneous haematoma', 'Dissemin...</td>\n",
       "    </tr>\n",
       "  </tbody>\n",
       "</table>\n",
       "<p>167 rows × 5 columns</p>\n",
       "</div>"
      ],
      "text/plain": [
       "        DRUG_NAME  DRUG_ID                                             SMILES  \\\n",
       "1     fluvoxamine  DB00176             COCCCC\\C(=N/OCCN)C1=CC=C(C=C1)C(F)(F)F   \n",
       "3      Bortezomib  DB00188  CC(C)C[C@H](NC(=O)[C@H](CC1=CC=CC=C1)NC(=O)C1=...   \n",
       "4        Tramadol  DB00193          COC1=CC=CC(=C1)[C@@]1(O)CCCC[C@@H]1CN(C)C   \n",
       "5     Oseltamivir  DB00198  CCOC(=O)C1=C[C@@H](OC(CC)CC)[C@H](NC(C)=O)[C@@...   \n",
       "6    Erythromycin  DB00199  CC[C@H]1OC(=O)[C@H](C)[C@@H](O[C@H]2C[C@@](C)(...   \n",
       "..            ...      ...                                                ...   \n",
       "227   thymopentin  DB11996  CC(C)C(NC(=O)[C@H](CC(O)=O)NC(=O)[C@H](CCCCN)N...   \n",
       "239   benserazide  DB12783                 NC(CO)C(=O)NNCC1=C(O)C(O)=C(O)C=C1   \n",
       "240     Dinoprost  DB12789  [H]\\C(CCCC(O)=O)=C(/[H])C[C@@]1([H])[C@@]([H])...   \n",
       "243     Hypericin  DB13014  CC1=C2C3=C(C)C=C(O)C4=C3C3=C5C2=C(C(O)=C1)C(=O...   \n",
       "246   Bamifylline  DB13203  CCN(CCO)CCN1C(CC2=CC=CC=C2)=NC2=C1C(=O)N(C)C(=...   \n",
       "\n",
       "                                         Sider_effects  \\\n",
       "1    ['Abdominal discomfort', 'Abdominal distension...   \n",
       "3    ['Abdominal discomfort', 'Abdominal distension...   \n",
       "4    ['Abdominal bloating', 'Abdominal discomfort',...   \n",
       "5    ['Abdominal pain', 'Abdominal pain upper', 'Ab...   \n",
       "6    ['Abdominal cramps', 'Abdominal discomfort', '...   \n",
       "..                                                 ...   \n",
       "227                                                NaN   \n",
       "239                                                NaN   \n",
       "240                                                NaN   \n",
       "243                                                NaN   \n",
       "246                                                NaN   \n",
       "\n",
       "                                       Offside_effects  \n",
       "1    ['Anaemia', 'Anaemia postoperative', 'Conjunct...  \n",
       "3    ['Iron deficiency anaemia', 'Pernicious anaemi...  \n",
       "4    ['Anaemia vitamin B12 deficiency', 'Deficiency...  \n",
       "5    ['Iron deficiency anaemia', 'Anaemia', 'Anaemi...  \n",
       "6    ['Iron deficiency anaemia', 'Pernicious anaemi...  \n",
       "..                                                 ...  \n",
       "227  ['Dizziness', 'Pyrexia', 'Chills', 'Drug ineff...  \n",
       "239  ['Iron deficiency anaemia', 'Anaemia', 'Anaemi...  \n",
       "240  ['Thrombocytopenia', 'Leukopenia', 'Neutropeni...  \n",
       "243  ['Coagulopathy', 'Atrial fibrillation', 'Sudde...  \n",
       "246  ['Anaemia', 'Spontaneous haematoma', 'Dissemin...  \n",
       "\n",
       "[167 rows x 5 columns]"
      ]
     },
     "execution_count": 18,
     "metadata": {},
     "output_type": "execute_result"
    }
   ],
   "source": [
    "df"
   ]
  },
  {
   "cell_type": "code",
   "execution_count": 19,
   "id": "be075361",
   "metadata": {},
   "outputs": [],
   "source": [
    "df.to_csv('NEW_Table_12_Both_offside_sider_sideeffects.csv')"
   ]
  },
  {
   "cell_type": "code",
   "execution_count": 112,
   "id": "e9cea9bc",
   "metadata": {},
   "outputs": [
    {
     "data": {
      "text/html": [
       "<div>\n",
       "<style scoped>\n",
       "    .dataframe tbody tr th:only-of-type {\n",
       "        vertical-align: middle;\n",
       "    }\n",
       "\n",
       "    .dataframe tbody tr th {\n",
       "        vertical-align: top;\n",
       "    }\n",
       "\n",
       "    .dataframe thead th {\n",
       "        text-align: right;\n",
       "    }\n",
       "</style>\n",
       "<table border=\"1\" class=\"dataframe\">\n",
       "  <thead>\n",
       "    <tr style=\"text-align: right;\">\n",
       "      <th></th>\n",
       "      <th>DRUG_NAME</th>\n",
       "      <th>DRUG_ID</th>\n",
       "      <th>SMILES</th>\n",
       "    </tr>\n",
       "  </thead>\n",
       "  <tbody>\n",
       "    <tr>\n",
       "      <th>0</th>\n",
       "      <td>cyclosporin</td>\n",
       "      <td>DB00091</td>\n",
       "      <td>CC[C@@H]1NC(=O)[C@H]([C@H](O)[C@H](C)C\\C=C\\C)N...</td>\n",
       "    </tr>\n",
       "    <tr>\n",
       "      <th>1</th>\n",
       "      <td>fluvoxamine</td>\n",
       "      <td>DB00176</td>\n",
       "      <td>COCCCC\\C(=N/OCCN)C1=CC=C(C=C1)C(F)(F)F</td>\n",
       "    </tr>\n",
       "    <tr>\n",
       "      <th>2</th>\n",
       "      <td>Masoprocol</td>\n",
       "      <td>DB00179</td>\n",
       "      <td>C[C@@H](CC1=CC(O)=C(O)C=C1)[C@H](C)CC1=CC(O)=C...</td>\n",
       "    </tr>\n",
       "    <tr>\n",
       "      <th>3</th>\n",
       "      <td>Bortezomib</td>\n",
       "      <td>DB00188</td>\n",
       "      <td>CC(C)C[C@H](NC(=O)[C@H](CC1=CC=CC=C1)NC(=O)C1=...</td>\n",
       "    </tr>\n",
       "    <tr>\n",
       "      <th>4</th>\n",
       "      <td>Tramadol</td>\n",
       "      <td>DB00193</td>\n",
       "      <td>COC1=CC=CC(=C1)[C@@]1(O)CCCC[C@@H]1CN(C)C</td>\n",
       "    </tr>\n",
       "    <tr>\n",
       "      <th>...</th>\n",
       "      <td>...</td>\n",
       "      <td>...</td>\n",
       "      <td>...</td>\n",
       "    </tr>\n",
       "    <tr>\n",
       "      <th>256</th>\n",
       "      <td>Remdesvir</td>\n",
       "      <td>DB14761</td>\n",
       "      <td>CCC(CC)COC(=O)[C@H](C)N[P@](=O)(OC[C@H]1O[C@](...</td>\n",
       "    </tr>\n",
       "    <tr>\n",
       "      <th>257</th>\n",
       "      <td>EIDD-1931</td>\n",
       "      <td>DB15660</td>\n",
       "      <td>OC[C@H]1O[C@H]([C@H](O)[C@@H]1O)N1C=CC(NO)=NC1=O</td>\n",
       "    </tr>\n",
       "    <tr>\n",
       "      <th>258</th>\n",
       "      <td>EIDD-2801</td>\n",
       "      <td>DB15661</td>\n",
       "      <td>CC(C)C(=O)OC[C@H]1O[C@H]([C@H](O)[C@@H]1O)N1C=...</td>\n",
       "    </tr>\n",
       "    <tr>\n",
       "      <th>259</th>\n",
       "      <td>Baloxavir</td>\n",
       "      <td>DB15675</td>\n",
       "      <td>[H][C@@]12COCCN1C(=O)C1=C(O)C(=O)C=CN1N2[C@@H]...</td>\n",
       "    </tr>\n",
       "    <tr>\n",
       "      <th>260</th>\n",
       "      <td>zotatifin</td>\n",
       "      <td>DB16408</td>\n",
       "      <td>COC1=NC(OC)=C2C(O[C@]3([C@@H]([C@@H](CN(C)C)[C...</td>\n",
       "    </tr>\n",
       "  </tbody>\n",
       "</table>\n",
       "<p>261 rows × 3 columns</p>\n",
       "</div>"
      ],
      "text/plain": [
       "       DRUG_NAME  DRUG_ID                                             SMILES\n",
       "0    cyclosporin  DB00091  CC[C@@H]1NC(=O)[C@H]([C@H](O)[C@H](C)C\\C=C\\C)N...\n",
       "1    fluvoxamine  DB00176             COCCCC\\C(=N/OCCN)C1=CC=C(C=C1)C(F)(F)F\n",
       "2     Masoprocol  DB00179  C[C@@H](CC1=CC(O)=C(O)C=C1)[C@H](C)CC1=CC(O)=C...\n",
       "3     Bortezomib  DB00188  CC(C)C[C@H](NC(=O)[C@H](CC1=CC=CC=C1)NC(=O)C1=...\n",
       "4       Tramadol  DB00193          COC1=CC=CC(=C1)[C@@]1(O)CCCC[C@@H]1CN(C)C\n",
       "..           ...      ...                                                ...\n",
       "256    Remdesvir  DB14761  CCC(CC)COC(=O)[C@H](C)N[P@](=O)(OC[C@H]1O[C@](...\n",
       "257    EIDD-1931  DB15660   OC[C@H]1O[C@H]([C@H](O)[C@@H]1O)N1C=CC(NO)=NC1=O\n",
       "258    EIDD-2801  DB15661  CC(C)C(=O)OC[C@H]1O[C@H]([C@H](O)[C@@H]1O)N1C=...\n",
       "259    Baloxavir  DB15675  [H][C@@]12COCCN1C(=O)C1=C(O)C(=O)C=CN1N2[C@@H]...\n",
       "260    zotatifin  DB16408  COC1=NC(OC)=C2C(O[C@]3([C@@H]([C@@H](CN(C)C)[C...\n",
       "\n",
       "[261 rows x 3 columns]"
      ]
     },
     "execution_count": 112,
     "metadata": {},
     "output_type": "execute_result"
    }
   ],
   "source": []
  },
  {
   "cell_type": "code",
   "execution_count": 20,
   "id": "44a69130",
   "metadata": {},
   "outputs": [
    {
     "name": "stderr",
     "output_type": "stream",
     "text": [
      "<ipython-input-20-2f0f6da7807d>:2: SettingWithCopyWarning: \n",
      "A value is trying to be set on a copy of a slice from a DataFrame.\n",
      "Try using .loc[row_indexer,col_indexer] = value instead\n",
      "\n",
      "See the caveats in the documentation: https://pandas.pydata.org/pandas-docs/stable/user_guide/indexing.html#returning-a-view-versus-a-copy\n",
      "  df['Offside_effects'] = df['DRUG_NAME'].str.lower().map(o1)\n"
     ]
    }
   ],
   "source": [
    "symp=mapping(df_offside,df_offside['drug_concept_name'].str.lower(),df_offside['SideEffectsOffSide'])\n",
    "df['Offside_effects'] = df['DRUG_NAME'].str.lower().map(o1)"
   ]
  },
  {
   "cell_type": "code",
   "execution_count": 21,
   "id": "44b5aa3e",
   "metadata": {},
   "outputs": [
    {
     "data": {
      "text/plain": [
       "8498"
      ]
     },
     "execution_count": 21,
     "metadata": {},
     "output_type": "execute_result"
    }
   ],
   "source": [
    "list1=df['Sider_effects']\n",
    "len(list1[1])"
   ]
  },
  {
   "cell_type": "code",
   "execution_count": 22,
   "id": "d45d37e9",
   "metadata": {},
   "outputs": [
    {
     "data": {
      "text/plain": [
       "48794"
      ]
     },
     "execution_count": 22,
     "metadata": {},
     "output_type": "execute_result"
    }
   ],
   "source": [
    "list2=df['Offside_effects']\n",
    "len(list2[1])"
   ]
  },
  {
   "cell_type": "code",
   "execution_count": 23,
   "id": "b22fd2ec",
   "metadata": {},
   "outputs": [
    {
     "data": {
      "text/plain": [
       "54"
      ]
     },
     "execution_count": 23,
     "metadata": {},
     "output_type": "execute_result"
    }
   ],
   "source": [
    "len(set(list1[1]).intersection(list2[1]))"
   ]
  },
  {
   "cell_type": "code",
   "execution_count": null,
   "id": "8655e079",
   "metadata": {},
   "outputs": [],
   "source": []
  }
 ],
 "metadata": {
  "kernelspec": {
   "display_name": "Python 3",
   "language": "python",
   "name": "python3"
  },
  "language_info": {
   "codemirror_mode": {
    "name": "ipython",
    "version": 3
   },
   "file_extension": ".py",
   "mimetype": "text/x-python",
   "name": "python",
   "nbconvert_exporter": "python",
   "pygments_lexer": "ipython3",
   "version": "3.9.2"
  }
 },
 "nbformat": 4,
 "nbformat_minor": 5
}
