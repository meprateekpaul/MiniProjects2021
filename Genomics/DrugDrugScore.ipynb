{
 "cells": [
  {
   "cell_type": "code",
   "execution_count": 1,
   "id": "7fbe498b",
   "metadata": {},
   "outputs": [],
   "source": [
    "import pandas as pd\n",
    "import numpy as np\n",
    "from tqdm import tqdm"
   ]
  },
  {
   "cell_type": "code",
   "execution_count": 88,
   "id": "9c8b2ec9",
   "metadata": {},
   "outputs": [],
   "source": [
    "df = pd.read_csv('testdd.csv')\n",
    "#df"
   ]
  },
  {
   "cell_type": "code",
   "execution_count": 89,
   "id": "0303e129",
   "metadata": {},
   "outputs": [],
   "source": [
    "side_eff=df[\"side_effect_name\"]"
   ]
  },
  {
   "cell_type": "code",
   "execution_count": 90,
   "id": "5b1b82a8",
   "metadata": {},
   "outputs": [
    {
     "data": {
      "text/plain": [
       "'carnitine'"
      ]
     },
     "execution_count": 90,
     "metadata": {},
     "output_type": "execute_result"
    }
   ],
   "source": [
    "drugname=df[\"drugname\"]\n",
    "drugname[0]"
   ]
  },
  {
   "cell_type": "code",
   "execution_count": 91,
   "id": "e738fb0b",
   "metadata": {},
   "outputs": [],
   "source": [
    "letter_list1 = side_eff[0].split(\",\")\n",
    "letter_list2 = side_eff[9].split(\",\")"
   ]
  },
  {
   "cell_type": "code",
   "execution_count": 102,
   "id": "d3d10dd5",
   "metadata": {},
   "outputs": [
    {
     "data": {
      "text/plain": [
       "[\"['Corneal'\",\n",
       " \" 'Corneal'\",\n",
       " \" 'Corneal'\",\n",
       " \" 'Bradycardia'\",\n",
       " \" 'Corneal'\",\n",
       " \" 'Bradycardia'\",\n",
       " \" 'Hyperhidrosis'\",\n",
       " \" 'Sweating'\",\n",
       " \" 'Corneal'\",\n",
       " \" 'Hypotension'\",\n",
       " \" 'Flushing'\",\n",
       " \" 'Flushing'\",\n",
       " \" 'Dyspnoea'\",\n",
       " \" 'Dyspnoea'\",\n",
       " \" 'Corneal'\",\n",
       " \" 'Hypotension']\"]"
      ]
     },
     "execution_count": 102,
     "metadata": {},
     "output_type": "execute_result"
    }
   ],
   "source": [
    "letter_list2"
   ]
  },
  {
   "cell_type": "code",
   "execution_count": 98,
   "id": "75b4819c",
   "metadata": {},
   "outputs": [
    {
     "data": {
      "text/plain": [
       "141"
      ]
     },
     "execution_count": 98,
     "metadata": {},
     "output_type": "execute_result"
    }
   ],
   "source": [
    "len(letter_list1)"
   ]
  },
  {
   "cell_type": "code",
   "execution_count": 95,
   "id": "329b150f",
   "metadata": {},
   "outputs": [
    {
     "name": "stdout",
     "output_type": "stream",
     "text": [
      "303\n"
     ]
    }
   ],
   "source": [
    "for x in letter_list1:    \n",
    "    for y in letter_list2:\n",
    "        if x==y:\n",
    "            count=count+1\n",
    "print(count)"
   ]
  },
  {
   "cell_type": "code",
   "execution_count": 99,
   "id": "396fb627",
   "metadata": {},
   "outputs": [
    {
     "data": {
      "text/plain": [
       "2"
      ]
     },
     "execution_count": 99,
     "metadata": {},
     "output_type": "execute_result"
    }
   ],
   "source": [
    "len(set(letter_list1).intersection(letter_list2))"
   ]
  },
  {
   "cell_type": "code",
   "execution_count": 100,
   "id": "7804369a",
   "metadata": {},
   "outputs": [
    {
     "data": {
      "text/plain": [
       "2"
      ]
     },
     "execution_count": 100,
     "metadata": {},
     "output_type": "execute_result"
    }
   ],
   "source": [
    "commonalities = set(letter_list1) - (set(letter_list1) - set(letter_list2))\n",
    "len(commonalities)"
   ]
  },
  {
   "cell_type": "code",
   "execution_count": 101,
   "id": "5da75943",
   "metadata": {},
   "outputs": [
    {
     "data": {
      "text/plain": [
       "2"
      ]
     },
     "execution_count": 101,
     "metadata": {},
     "output_type": "execute_result"
    }
   ],
   "source": [
    "common_elements(list1, list2)"
   ]
  },
  {
   "cell_type": "code",
   "execution_count": 50,
   "id": "3474f050",
   "metadata": {},
   "outputs": [
    {
     "name": "stdout",
     "output_type": "stream",
     "text": [
      "297\n"
     ]
    }
   ],
   "source": [
    "letter_list1 = side_eff[0].split(\",\")\n",
    "drugocc={}\n",
    "\n",
    "letter_list2 = side_eff[9].split(\",\")\n",
    "key=drugname[i]\n",
    "    \n",
    "count=0\n",
    "    \n",
    "for x in letter_list1:    \n",
    "    for y in letter_list1:\n",
    "        if x==y:\n",
    "            count=count+1\n",
    "print(count)\n",
    "#print(i)"
   ]
  },
  {
   "cell_type": "code",
   "execution_count": 54,
   "id": "a765b149",
   "metadata": {},
   "outputs": [
    {
     "name": "stderr",
     "output_type": "stream",
     "text": [
      "100%|██████████████████████████████████████████████████████████████████████████████████| 10/10 [00:05<00:00,  1.83it/s]\n"
     ]
    }
   ],
   "source": [
    "for j in tqdm(range(10)):\n",
    "    letter_list1 = side_eff[j].split(\",\")\n",
    "    drugocc={}\n",
    "\n",
    "    for i in range(10):\n",
    "        letter_list2 = side_eff[i].split(\",\")\n",
    "        key=drugname[i]\n",
    "        count=0\n",
    "\n",
    "        for x in letter_list2:    \n",
    "            for y in letter_list1:\n",
    "                if drugname[i]==drugname[j]:\n",
    "                    count=float(\"nan\")\n",
    "                else:\n",
    "                    if x==y:\n",
    "                        count=count+1\n",
    "            value=count\n",
    "        drugocc[key]=value\n",
    "    \n",
    "    #print(drugocc)\n",
    "    df[drugname[j]] = df['drugname'].map(drugocc)"
   ]
  },
  {
   "cell_type": "code",
   "execution_count": 10,
   "id": "3854b1b6",
   "metadata": {},
   "outputs": [
    {
     "data": {
      "text/plain": [
       "{'acetylcholine': 6}"
      ]
     },
     "execution_count": 10,
     "metadata": {},
     "output_type": "execute_result"
    }
   ],
   "source": [
    "drugocc"
   ]
  },
  {
   "cell_type": "code",
   "execution_count": 64,
   "id": "37c84fdc",
   "metadata": {},
   "outputs": [],
   "source": [
    "df['carnitine'] = df['drugname'].map(drugocc)"
   ]
  },
  {
   "cell_type": "code",
   "execution_count": 37,
   "id": "e004ab4a",
   "metadata": {},
   "outputs": [
    {
     "data": {
      "text/html": [
       "<div>\n",
       "<style scoped>\n",
       "    .dataframe tbody tr th:only-of-type {\n",
       "        vertical-align: middle;\n",
       "    }\n",
       "\n",
       "    .dataframe tbody tr th {\n",
       "        vertical-align: top;\n",
       "    }\n",
       "\n",
       "    .dataframe thead th {\n",
       "        text-align: right;\n",
       "    }\n",
       "</style>\n",
       "<table border=\"1\" class=\"dataframe\">\n",
       "  <thead>\n",
       "    <tr style=\"text-align: right;\">\n",
       "      <th></th>\n",
       "      <th>S_No</th>\n",
       "      <th>CID</th>\n",
       "      <th>drugname</th>\n",
       "      <th>no_of_side_effect</th>\n",
       "      <th>side_effect_name</th>\n",
       "      <th>carnitine</th>\n",
       "      <th>gamma-aminobutyric</th>\n",
       "      <th>5-aminolevulinic</th>\n",
       "      <th>leucovorin</th>\n",
       "      <th>5-methyltetrahydrofolate</th>\n",
       "      <th>PGE2</th>\n",
       "      <th>prostacyclin</th>\n",
       "      <th>prostaglandin</th>\n",
       "      <th>acetate</th>\n",
       "      <th>acetylcholine</th>\n",
       "    </tr>\n",
       "  </thead>\n",
       "  <tbody>\n",
       "    <tr>\n",
       "      <th>0</th>\n",
       "      <td>1</td>\n",
       "      <td>CID100000085</td>\n",
       "      <td>carnitine</td>\n",
       "      <td>141</td>\n",
       "      <td>['Abdominal', 'Haemoglobin', 'Melaena', 'Melae...</td>\n",
       "      <td>NaN</td>\n",
       "      <td>6.0</td>\n",
       "      <td>109.0</td>\n",
       "      <td>179.0</td>\n",
       "      <td>0.0</td>\n",
       "      <td>130.0</td>\n",
       "      <td>233.0</td>\n",
       "      <td>43.0</td>\n",
       "      <td>6.0</td>\n",
       "      <td>6.0</td>\n",
       "    </tr>\n",
       "    <tr>\n",
       "      <th>1</th>\n",
       "      <td>2</td>\n",
       "      <td>CID100000119</td>\n",
       "      <td>gamma-aminobutyric</td>\n",
       "      <td>10</td>\n",
       "      <td>['Anaphylactic', 'Anaphylactic', 'Urticaria', ...</td>\n",
       "      <td>6.0</td>\n",
       "      <td>NaN</td>\n",
       "      <td>8.0</td>\n",
       "      <td>10.0</td>\n",
       "      <td>0.0</td>\n",
       "      <td>7.0</td>\n",
       "      <td>18.0</td>\n",
       "      <td>0.0</td>\n",
       "      <td>6.0</td>\n",
       "      <td>0.0</td>\n",
       "    </tr>\n",
       "    <tr>\n",
       "      <th>2</th>\n",
       "      <td>3</td>\n",
       "      <td>CID100000137</td>\n",
       "      <td>5-aminolevulinic</td>\n",
       "      <td>171</td>\n",
       "      <td>['Infestation', 'Feeling', 'Feeling', 'Photode...</td>\n",
       "      <td>109.0</td>\n",
       "      <td>8.0</td>\n",
       "      <td>NaN</td>\n",
       "      <td>176.0</td>\n",
       "      <td>0.0</td>\n",
       "      <td>105.0</td>\n",
       "      <td>183.0</td>\n",
       "      <td>30.0</td>\n",
       "      <td>10.0</td>\n",
       "      <td>2.0</td>\n",
       "    </tr>\n",
       "    <tr>\n",
       "      <th>3</th>\n",
       "      <td>4</td>\n",
       "      <td>CID100000143</td>\n",
       "      <td>leucovorin</td>\n",
       "      <td>179</td>\n",
       "      <td>['Fatigue', 'Dermatitis', 'Extravasation', 'Ex...</td>\n",
       "      <td>179.0</td>\n",
       "      <td>10.0</td>\n",
       "      <td>176.0</td>\n",
       "      <td>NaN</td>\n",
       "      <td>0.0</td>\n",
       "      <td>143.0</td>\n",
       "      <td>250.0</td>\n",
       "      <td>70.0</td>\n",
       "      <td>0.0</td>\n",
       "      <td>4.0</td>\n",
       "    </tr>\n",
       "    <tr>\n",
       "      <th>4</th>\n",
       "      <td>5</td>\n",
       "      <td>CID100000146</td>\n",
       "      <td>5-methyltetrahydrofolate</td>\n",
       "      <td>2</td>\n",
       "      <td>['Sensitisation', 'Sensitisation']</td>\n",
       "      <td>0.0</td>\n",
       "      <td>0.0</td>\n",
       "      <td>0.0</td>\n",
       "      <td>0.0</td>\n",
       "      <td>NaN</td>\n",
       "      <td>0.0</td>\n",
       "      <td>0.0</td>\n",
       "      <td>0.0</td>\n",
       "      <td>0.0</td>\n",
       "      <td>0.0</td>\n",
       "    </tr>\n",
       "    <tr>\n",
       "      <th>5</th>\n",
       "      <td>6</td>\n",
       "      <td>CID100000158</td>\n",
       "      <td>PGE2</td>\n",
       "      <td>170</td>\n",
       "      <td>['Cough', 'Dyspnoea', 'Amniotic', 'Anaphylacto...</td>\n",
       "      <td>130.0</td>\n",
       "      <td>7.0</td>\n",
       "      <td>105.0</td>\n",
       "      <td>143.0</td>\n",
       "      <td>0.0</td>\n",
       "      <td>NaN</td>\n",
       "      <td>210.0</td>\n",
       "      <td>100.0</td>\n",
       "      <td>6.0</td>\n",
       "      <td>12.0</td>\n",
       "    </tr>\n",
       "    <tr>\n",
       "      <th>6</th>\n",
       "      <td>7</td>\n",
       "      <td>CID100000159</td>\n",
       "      <td>prostacyclin</td>\n",
       "      <td>256</td>\n",
       "      <td>['Haemothorax', 'Hypotension', 'Orthostatic', ...</td>\n",
       "      <td>233.0</td>\n",
       "      <td>18.0</td>\n",
       "      <td>183.0</td>\n",
       "      <td>250.0</td>\n",
       "      <td>0.0</td>\n",
       "      <td>210.0</td>\n",
       "      <td>NaN</td>\n",
       "      <td>57.0</td>\n",
       "      <td>14.0</td>\n",
       "      <td>16.0</td>\n",
       "    </tr>\n",
       "    <tr>\n",
       "      <th>7</th>\n",
       "      <td>8</td>\n",
       "      <td>CID100000160</td>\n",
       "      <td>prostaglandin</td>\n",
       "      <td>48</td>\n",
       "      <td>['Disseminated', 'Diarrhoea', 'Diarrhoea', 'Ba...</td>\n",
       "      <td>43.0</td>\n",
       "      <td>0.0</td>\n",
       "      <td>30.0</td>\n",
       "      <td>70.0</td>\n",
       "      <td>0.0</td>\n",
       "      <td>100.0</td>\n",
       "      <td>57.0</td>\n",
       "      <td>NaN</td>\n",
       "      <td>0.0</td>\n",
       "      <td>6.0</td>\n",
       "    </tr>\n",
       "    <tr>\n",
       "      <th>8</th>\n",
       "      <td>9</td>\n",
       "      <td>CID100000175</td>\n",
       "      <td>acetate</td>\n",
       "      <td>10</td>\n",
       "      <td>['Haematuria', 'Acidosis', 'Acidosis', 'Pain',...</td>\n",
       "      <td>6.0</td>\n",
       "      <td>6.0</td>\n",
       "      <td>10.0</td>\n",
       "      <td>0.0</td>\n",
       "      <td>0.0</td>\n",
       "      <td>6.0</td>\n",
       "      <td>14.0</td>\n",
       "      <td>0.0</td>\n",
       "      <td>NaN</td>\n",
       "      <td>0.0</td>\n",
       "    </tr>\n",
       "    <tr>\n",
       "      <th>9</th>\n",
       "      <td>10</td>\n",
       "      <td>CID100000187</td>\n",
       "      <td>acetylcholine</td>\n",
       "      <td>16</td>\n",
       "      <td>['Corneal', 'Corneal', 'Corneal', 'Bradycardia...</td>\n",
       "      <td>6.0</td>\n",
       "      <td>0.0</td>\n",
       "      <td>2.0</td>\n",
       "      <td>4.0</td>\n",
       "      <td>0.0</td>\n",
       "      <td>12.0</td>\n",
       "      <td>16.0</td>\n",
       "      <td>6.0</td>\n",
       "      <td>0.0</td>\n",
       "      <td>NaN</td>\n",
       "    </tr>\n",
       "  </tbody>\n",
       "</table>\n",
       "</div>"
      ],
      "text/plain": [
       "   S_No           CID                  drugname  no_of_side_effect  \\\n",
       "0     1  CID100000085                 carnitine                141   \n",
       "1     2  CID100000119        gamma-aminobutyric                 10   \n",
       "2     3  CID100000137          5-aminolevulinic                171   \n",
       "3     4  CID100000143                leucovorin                179   \n",
       "4     5  CID100000146  5-methyltetrahydrofolate                  2   \n",
       "5     6  CID100000158                      PGE2                170   \n",
       "6     7  CID100000159              prostacyclin                256   \n",
       "7     8  CID100000160             prostaglandin                 48   \n",
       "8     9  CID100000175                   acetate                 10   \n",
       "9    10  CID100000187             acetylcholine                 16   \n",
       "\n",
       "                                    side_effect_name  carnitine  \\\n",
       "0  ['Abdominal', 'Haemoglobin', 'Melaena', 'Melae...        NaN   \n",
       "1  ['Anaphylactic', 'Anaphylactic', 'Urticaria', ...        6.0   \n",
       "2  ['Infestation', 'Feeling', 'Feeling', 'Photode...      109.0   \n",
       "3  ['Fatigue', 'Dermatitis', 'Extravasation', 'Ex...      179.0   \n",
       "4                 ['Sensitisation', 'Sensitisation']        0.0   \n",
       "5  ['Cough', 'Dyspnoea', 'Amniotic', 'Anaphylacto...      130.0   \n",
       "6  ['Haemothorax', 'Hypotension', 'Orthostatic', ...      233.0   \n",
       "7  ['Disseminated', 'Diarrhoea', 'Diarrhoea', 'Ba...       43.0   \n",
       "8  ['Haematuria', 'Acidosis', 'Acidosis', 'Pain',...        6.0   \n",
       "9  ['Corneal', 'Corneal', 'Corneal', 'Bradycardia...        6.0   \n",
       "\n",
       "   gamma-aminobutyric  5-aminolevulinic  leucovorin  5-methyltetrahydrofolate  \\\n",
       "0                 6.0             109.0       179.0                       0.0   \n",
       "1                 NaN               8.0        10.0                       0.0   \n",
       "2                 8.0               NaN       176.0                       0.0   \n",
       "3                10.0             176.0         NaN                       0.0   \n",
       "4                 0.0               0.0         0.0                       NaN   \n",
       "5                 7.0             105.0       143.0                       0.0   \n",
       "6                18.0             183.0       250.0                       0.0   \n",
       "7                 0.0              30.0        70.0                       0.0   \n",
       "8                 6.0              10.0         0.0                       0.0   \n",
       "9                 0.0               2.0         4.0                       0.0   \n",
       "\n",
       "    PGE2  prostacyclin  prostaglandin  acetate  acetylcholine  \n",
       "0  130.0         233.0           43.0      6.0            6.0  \n",
       "1    7.0          18.0            0.0      6.0            0.0  \n",
       "2  105.0         183.0           30.0     10.0            2.0  \n",
       "3  143.0         250.0           70.0      0.0            4.0  \n",
       "4    0.0           0.0            0.0      0.0            0.0  \n",
       "5    NaN         210.0          100.0      6.0           12.0  \n",
       "6  210.0           NaN           57.0     14.0           16.0  \n",
       "7  100.0          57.0            NaN      0.0            6.0  \n",
       "8    6.0          14.0            0.0      NaN            0.0  \n",
       "9   12.0          16.0            6.0      0.0            NaN  "
      ]
     },
     "execution_count": 37,
     "metadata": {},
     "output_type": "execute_result"
    }
   ],
   "source": [
    "df"
   ]
  },
  {
   "cell_type": "code",
   "execution_count": 37,
   "id": "41646e83",
   "metadata": {},
   "outputs": [
    {
     "data": {
      "text/plain": [
       "9"
      ]
     },
     "execution_count": 37,
     "metadata": {},
     "output_type": "execute_result"
    }
   ],
   "source": [
    "len(set(letter_list1).intersection(letter_list2))"
   ]
  },
  {
   "cell_type": "code",
   "execution_count": 66,
   "id": "0bd66e12",
   "metadata": {},
   "outputs": [
    {
     "name": "stdout",
     "output_type": "stream",
     "text": [
      "16\n",
      "16\n"
     ]
    }
   ],
   "source": [
    "print(len(letter_list1))\n",
    "print(len(letter_list2))"
   ]
  },
  {
   "cell_type": "code",
   "execution_count": 62,
   "id": "ad8f6629",
   "metadata": {},
   "outputs": [
    {
     "name": "stdout",
     "output_type": "stream",
     "text": [
      "42\n"
     ]
    }
   ],
   "source": [
    "count=0\n",
    "for x in letter_list1:    \n",
    "    for y in letter_list2:\n",
    "        if x==y:\n",
    "            count=count+1\n",
    "print(count)"
   ]
  },
  {
   "cell_type": "code",
   "execution_count": 46,
   "id": "d7687066",
   "metadata": {},
   "outputs": [],
   "source": [
    "def common_elements(list1, list2):\n",
    "    count=0\n",
    "    for element in list1:\n",
    "        if element in list2:\n",
    "            count=count+1\n",
    "    return count"
   ]
  },
  {
   "cell_type": "code",
   "execution_count": 83,
   "id": "eac7a967",
   "metadata": {},
   "outputs": [
    {
     "data": {
      "text/plain": [
       "9"
      ]
     },
     "execution_count": 83,
     "metadata": {},
     "output_type": "execute_result"
    }
   ],
   "source": [
    "commonalities = set(letter_list1) - (set(letter_list1) - set(letter_list2))\n",
    "len(commonalities)"
   ]
  },
  {
   "cell_type": "code",
   "execution_count": 84,
   "id": "78725a3b",
   "metadata": {},
   "outputs": [
    {
     "data": {
      "text/plain": [
       "9"
      ]
     },
     "execution_count": 84,
     "metadata": {},
     "output_type": "execute_result"
    }
   ],
   "source": [
    "commonalities = set(letter_list2) - (set(letter_list2) - set(letter_list1))\n",
    "len(commonalities)"
   ]
  },
  {
   "cell_type": "code",
   "execution_count": 67,
   "id": "09e9a911",
   "metadata": {},
   "outputs": [
    {
     "name": "stdout",
     "output_type": "stream",
     "text": [
      "[\"['Corneal'\", \" 'Corneal'\", \" 'Corneal'\", \" 'Bradycardia'\", \" 'Corneal'\", \" 'Bradycardia'\", \" 'Hyperhidrosis'\", \" 'Sweating'\", \" 'Corneal'\", \" 'Hypotension'\", \" 'Flushing'\", \" 'Flushing'\", \" 'Dyspnoea'\", \" 'Dyspnoea'\", \" 'Corneal'\", \" 'Hypotension']\"]\n",
      "[\"['Corneal'\", \" 'Corneal'\", \" 'Corneal'\", \" 'Bradycardia'\", \" 'Corneal'\", \" 'Bradycardia'\", \" 'Hyperhidrosis'\", \" 'Sweating'\", \" 'Corneal'\", \" 'Hypotension'\", \" 'Flushing'\", \" 'Flushing'\", \" 'Dyspnoea'\", \" 'Dyspnoea'\", \" 'Corneal'\", \" 'Hypotension']\"]\n"
     ]
    }
   ],
   "source": [
    "print(letter_list1)\n",
    "print(letter_list2)"
   ]
  },
  {
   "cell_type": "code",
   "execution_count": 63,
   "id": "af841a10",
   "metadata": {},
   "outputs": [
    {
     "data": {
      "text/plain": [
       "16"
      ]
     },
     "execution_count": 63,
     "metadata": {},
     "output_type": "execute_result"
    }
   ],
   "source": [
    "common_elements(letter_list1, letter_list2)"
   ]
  },
  {
   "cell_type": "code",
   "execution_count": 85,
   "id": "f4e8f2eb",
   "metadata": {},
   "outputs": [
    {
     "name": "stderr",
     "output_type": "stream",
     "text": [
      "100%|█████████████████████████████████████████████████████████████████████████████████| 10/10 [00:00<00:00, 102.31it/s]\n"
     ]
    }
   ],
   "source": [
    "df = pd.read_csv('testdd.csv')\n",
    "drugname=df[\"drugname\"]\n",
    "side_eff=df[\"side_effect_name\"]\n",
    "\n",
    "for j in tqdm(range(10)):\n",
    "    \n",
    "    letter_list1 = side_eff[j].split(\",\")\n",
    "    drugocc={}\n",
    "\n",
    "    for i in range(10):\n",
    "        \n",
    "        letter_list2 = side_eff[i].split(\",\")\n",
    "        key=drugname[i]\n",
    "        count=0\n",
    "        \n",
    "        if drugname[i]==drugname[j]:\n",
    "            value=float(\"nan\")\n",
    "        else:\n",
    "            value=len(set(letter_list1).intersection(letter_list2))\n",
    "\n",
    "        drugocc[key]=value\n",
    "        df[drugname[j]] = df['drugname'].map(drugocc)"
   ]
  },
  {
   "cell_type": "code",
   "execution_count": 86,
   "id": "9e7ce9c5",
   "metadata": {},
   "outputs": [
    {
     "data": {
      "text/plain": [
       "{'carnitine': 2,\n",
       " 'gamma-aminobutyric': 0,\n",
       " '5-aminolevulinic': 1,\n",
       " 'leucovorin': 1,\n",
       " '5-methyltetrahydrofolate': 0,\n",
       " 'PGE2': 5,\n",
       " 'prostacyclin': 6,\n",
       " 'prostaglandin': 2,\n",
       " 'acetate': 0,\n",
       " 'acetylcholine': nan}"
      ]
     },
     "execution_count": 86,
     "metadata": {},
     "output_type": "execute_result"
    }
   ],
   "source": [
    "drugocc"
   ]
  },
  {
   "cell_type": "code",
   "execution_count": 87,
   "id": "762df167",
   "metadata": {},
   "outputs": [
    {
     "data": {
      "text/html": [
       "<div>\n",
       "<style scoped>\n",
       "    .dataframe tbody tr th:only-of-type {\n",
       "        vertical-align: middle;\n",
       "    }\n",
       "\n",
       "    .dataframe tbody tr th {\n",
       "        vertical-align: top;\n",
       "    }\n",
       "\n",
       "    .dataframe thead th {\n",
       "        text-align: right;\n",
       "    }\n",
       "</style>\n",
       "<table border=\"1\" class=\"dataframe\">\n",
       "  <thead>\n",
       "    <tr style=\"text-align: right;\">\n",
       "      <th></th>\n",
       "      <th>S_No</th>\n",
       "      <th>CID</th>\n",
       "      <th>drugname</th>\n",
       "      <th>no_of_side_effect</th>\n",
       "      <th>side_effect_name</th>\n",
       "      <th>carnitine</th>\n",
       "      <th>gamma-aminobutyric</th>\n",
       "      <th>5-aminolevulinic</th>\n",
       "      <th>leucovorin</th>\n",
       "      <th>5-methyltetrahydrofolate</th>\n",
       "      <th>PGE2</th>\n",
       "      <th>prostacyclin</th>\n",
       "      <th>prostaglandin</th>\n",
       "      <th>acetate</th>\n",
       "      <th>acetylcholine</th>\n",
       "    </tr>\n",
       "  </thead>\n",
       "  <tbody>\n",
       "    <tr>\n",
       "      <th>0</th>\n",
       "      <td>1</td>\n",
       "      <td>CID100000085</td>\n",
       "      <td>carnitine</td>\n",
       "      <td>141</td>\n",
       "      <td>['Abdominal', 'Haemoglobin', 'Melaena', 'Melae...</td>\n",
       "      <td>NaN</td>\n",
       "      <td>2.0</td>\n",
       "      <td>22.0</td>\n",
       "      <td>22.0</td>\n",
       "      <td>0.0</td>\n",
       "      <td>33.0</td>\n",
       "      <td>50.0</td>\n",
       "      <td>10.0</td>\n",
       "      <td>1.0</td>\n",
       "      <td>2.0</td>\n",
       "    </tr>\n",
       "    <tr>\n",
       "      <th>1</th>\n",
       "      <td>2</td>\n",
       "      <td>CID100000119</td>\n",
       "      <td>gamma-aminobutyric</td>\n",
       "      <td>10</td>\n",
       "      <td>['Anaphylactic', 'Anaphylactic', 'Urticaria', ...</td>\n",
       "      <td>2.0</td>\n",
       "      <td>NaN</td>\n",
       "      <td>2.0</td>\n",
       "      <td>2.0</td>\n",
       "      <td>0.0</td>\n",
       "      <td>2.0</td>\n",
       "      <td>4.0</td>\n",
       "      <td>0.0</td>\n",
       "      <td>1.0</td>\n",
       "      <td>0.0</td>\n",
       "    </tr>\n",
       "    <tr>\n",
       "      <th>2</th>\n",
       "      <td>3</td>\n",
       "      <td>CID100000137</td>\n",
       "      <td>5-aminolevulinic</td>\n",
       "      <td>171</td>\n",
       "      <td>['Infestation', 'Feeling', 'Feeling', 'Photode...</td>\n",
       "      <td>22.0</td>\n",
       "      <td>2.0</td>\n",
       "      <td>NaN</td>\n",
       "      <td>18.0</td>\n",
       "      <td>0.0</td>\n",
       "      <td>19.0</td>\n",
       "      <td>33.0</td>\n",
       "      <td>8.0</td>\n",
       "      <td>2.0</td>\n",
       "      <td>1.0</td>\n",
       "    </tr>\n",
       "    <tr>\n",
       "      <th>3</th>\n",
       "      <td>4</td>\n",
       "      <td>CID100000143</td>\n",
       "      <td>leucovorin</td>\n",
       "      <td>179</td>\n",
       "      <td>['Fatigue', 'Dermatitis', 'Extravasation', 'Ex...</td>\n",
       "      <td>22.0</td>\n",
       "      <td>2.0</td>\n",
       "      <td>18.0</td>\n",
       "      <td>NaN</td>\n",
       "      <td>0.0</td>\n",
       "      <td>22.0</td>\n",
       "      <td>29.0</td>\n",
       "      <td>9.0</td>\n",
       "      <td>0.0</td>\n",
       "      <td>1.0</td>\n",
       "    </tr>\n",
       "    <tr>\n",
       "      <th>4</th>\n",
       "      <td>5</td>\n",
       "      <td>CID100000146</td>\n",
       "      <td>5-methyltetrahydrofolate</td>\n",
       "      <td>2</td>\n",
       "      <td>['Sensitisation', 'Sensitisation']</td>\n",
       "      <td>0.0</td>\n",
       "      <td>0.0</td>\n",
       "      <td>0.0</td>\n",
       "      <td>0.0</td>\n",
       "      <td>NaN</td>\n",
       "      <td>0.0</td>\n",
       "      <td>0.0</td>\n",
       "      <td>0.0</td>\n",
       "      <td>0.0</td>\n",
       "      <td>0.0</td>\n",
       "    </tr>\n",
       "    <tr>\n",
       "      <th>5</th>\n",
       "      <td>6</td>\n",
       "      <td>CID100000158</td>\n",
       "      <td>PGE2</td>\n",
       "      <td>170</td>\n",
       "      <td>['Cough', 'Dyspnoea', 'Amniotic', 'Anaphylacto...</td>\n",
       "      <td>33.0</td>\n",
       "      <td>2.0</td>\n",
       "      <td>19.0</td>\n",
       "      <td>22.0</td>\n",
       "      <td>0.0</td>\n",
       "      <td>NaN</td>\n",
       "      <td>43.0</td>\n",
       "      <td>20.0</td>\n",
       "      <td>1.0</td>\n",
       "      <td>5.0</td>\n",
       "    </tr>\n",
       "    <tr>\n",
       "      <th>6</th>\n",
       "      <td>7</td>\n",
       "      <td>CID100000159</td>\n",
       "      <td>prostacyclin</td>\n",
       "      <td>256</td>\n",
       "      <td>['Haemothorax', 'Hypotension', 'Orthostatic', ...</td>\n",
       "      <td>50.0</td>\n",
       "      <td>4.0</td>\n",
       "      <td>33.0</td>\n",
       "      <td>29.0</td>\n",
       "      <td>0.0</td>\n",
       "      <td>43.0</td>\n",
       "      <td>NaN</td>\n",
       "      <td>12.0</td>\n",
       "      <td>2.0</td>\n",
       "      <td>6.0</td>\n",
       "    </tr>\n",
       "    <tr>\n",
       "      <th>7</th>\n",
       "      <td>8</td>\n",
       "      <td>CID100000160</td>\n",
       "      <td>prostaglandin</td>\n",
       "      <td>48</td>\n",
       "      <td>['Disseminated', 'Diarrhoea', 'Diarrhoea', 'Ba...</td>\n",
       "      <td>10.0</td>\n",
       "      <td>0.0</td>\n",
       "      <td>8.0</td>\n",
       "      <td>9.0</td>\n",
       "      <td>0.0</td>\n",
       "      <td>20.0</td>\n",
       "      <td>12.0</td>\n",
       "      <td>NaN</td>\n",
       "      <td>0.0</td>\n",
       "      <td>2.0</td>\n",
       "    </tr>\n",
       "    <tr>\n",
       "      <th>8</th>\n",
       "      <td>9</td>\n",
       "      <td>CID100000175</td>\n",
       "      <td>acetate</td>\n",
       "      <td>10</td>\n",
       "      <td>['Haematuria', 'Acidosis', 'Acidosis', 'Pain',...</td>\n",
       "      <td>1.0</td>\n",
       "      <td>1.0</td>\n",
       "      <td>2.0</td>\n",
       "      <td>0.0</td>\n",
       "      <td>0.0</td>\n",
       "      <td>1.0</td>\n",
       "      <td>2.0</td>\n",
       "      <td>0.0</td>\n",
       "      <td>NaN</td>\n",
       "      <td>0.0</td>\n",
       "    </tr>\n",
       "    <tr>\n",
       "      <th>9</th>\n",
       "      <td>10</td>\n",
       "      <td>CID100000187</td>\n",
       "      <td>acetylcholine</td>\n",
       "      <td>16</td>\n",
       "      <td>['Corneal', 'Corneal', 'Corneal', 'Bradycardia...</td>\n",
       "      <td>2.0</td>\n",
       "      <td>0.0</td>\n",
       "      <td>1.0</td>\n",
       "      <td>1.0</td>\n",
       "      <td>0.0</td>\n",
       "      <td>5.0</td>\n",
       "      <td>6.0</td>\n",
       "      <td>2.0</td>\n",
       "      <td>0.0</td>\n",
       "      <td>NaN</td>\n",
       "    </tr>\n",
       "  </tbody>\n",
       "</table>\n",
       "</div>"
      ],
      "text/plain": [
       "   S_No           CID                  drugname  no_of_side_effect  \\\n",
       "0     1  CID100000085                 carnitine                141   \n",
       "1     2  CID100000119        gamma-aminobutyric                 10   \n",
       "2     3  CID100000137          5-aminolevulinic                171   \n",
       "3     4  CID100000143                leucovorin                179   \n",
       "4     5  CID100000146  5-methyltetrahydrofolate                  2   \n",
       "5     6  CID100000158                      PGE2                170   \n",
       "6     7  CID100000159              prostacyclin                256   \n",
       "7     8  CID100000160             prostaglandin                 48   \n",
       "8     9  CID100000175                   acetate                 10   \n",
       "9    10  CID100000187             acetylcholine                 16   \n",
       "\n",
       "                                    side_effect_name  carnitine  \\\n",
       "0  ['Abdominal', 'Haemoglobin', 'Melaena', 'Melae...        NaN   \n",
       "1  ['Anaphylactic', 'Anaphylactic', 'Urticaria', ...        2.0   \n",
       "2  ['Infestation', 'Feeling', 'Feeling', 'Photode...       22.0   \n",
       "3  ['Fatigue', 'Dermatitis', 'Extravasation', 'Ex...       22.0   \n",
       "4                 ['Sensitisation', 'Sensitisation']        0.0   \n",
       "5  ['Cough', 'Dyspnoea', 'Amniotic', 'Anaphylacto...       33.0   \n",
       "6  ['Haemothorax', 'Hypotension', 'Orthostatic', ...       50.0   \n",
       "7  ['Disseminated', 'Diarrhoea', 'Diarrhoea', 'Ba...       10.0   \n",
       "8  ['Haematuria', 'Acidosis', 'Acidosis', 'Pain',...        1.0   \n",
       "9  ['Corneal', 'Corneal', 'Corneal', 'Bradycardia...        2.0   \n",
       "\n",
       "   gamma-aminobutyric  5-aminolevulinic  leucovorin  5-methyltetrahydrofolate  \\\n",
       "0                 2.0              22.0        22.0                       0.0   \n",
       "1                 NaN               2.0         2.0                       0.0   \n",
       "2                 2.0               NaN        18.0                       0.0   \n",
       "3                 2.0              18.0         NaN                       0.0   \n",
       "4                 0.0               0.0         0.0                       NaN   \n",
       "5                 2.0              19.0        22.0                       0.0   \n",
       "6                 4.0              33.0        29.0                       0.0   \n",
       "7                 0.0               8.0         9.0                       0.0   \n",
       "8                 1.0               2.0         0.0                       0.0   \n",
       "9                 0.0               1.0         1.0                       0.0   \n",
       "\n",
       "   PGE2  prostacyclin  prostaglandin  acetate  acetylcholine  \n",
       "0  33.0          50.0           10.0      1.0            2.0  \n",
       "1   2.0           4.0            0.0      1.0            0.0  \n",
       "2  19.0          33.0            8.0      2.0            1.0  \n",
       "3  22.0          29.0            9.0      0.0            1.0  \n",
       "4   0.0           0.0            0.0      0.0            0.0  \n",
       "5   NaN          43.0           20.0      1.0            5.0  \n",
       "6  43.0           NaN           12.0      2.0            6.0  \n",
       "7  20.0          12.0            NaN      0.0            2.0  \n",
       "8   1.0           2.0            0.0      NaN            0.0  \n",
       "9   5.0           6.0            2.0      0.0            NaN  "
      ]
     },
     "execution_count": 87,
     "metadata": {},
     "output_type": "execute_result"
    }
   ],
   "source": [
    "df"
   ]
  },
  {
   "cell_type": "code",
   "execution_count": 11,
   "id": "cb2ed5cc",
   "metadata": {},
   "outputs": [],
   "source": [
    "df = pd.read_csv('cid_drug_no_effect.csv')"
   ]
  },
  {
   "cell_type": "code",
   "execution_count": 12,
   "id": "7538d92d",
   "metadata": {},
   "outputs": [],
   "source": [
    "length=len(df)"
   ]
  },
  {
   "cell_type": "code",
   "execution_count": null,
   "id": "faecf89c",
   "metadata": {},
   "outputs": [],
   "source": [
    "for i in tqdm(range(length)):\n",
    "    print(\".\")"
   ]
  },
  {
   "cell_type": "code",
   "execution_count": 55,
   "id": "b672fa24",
   "metadata": {},
   "outputs": [
    {
     "name": "stderr",
     "output_type": "stream",
     "text": [
      "  0%|                                                                                         | 0/1347 [01:28<?, ?it/s]\n"
     ]
    },
    {
     "ename": "KeyboardInterrupt",
     "evalue": "",
     "output_type": "error",
     "traceback": [
      "\u001b[1;31m---------------------------------------------------------------------------\u001b[0m",
      "\u001b[1;31mKeyboardInterrupt\u001b[0m                         Traceback (most recent call last)",
      "\u001b[1;32m<ipython-input-55-8a72f9efb590>\u001b[0m in \u001b[0;36m<module>\u001b[1;34m\u001b[0m\n\u001b[0;32m     14\u001b[0m         \u001b[1;32mfor\u001b[0m \u001b[0mx\u001b[0m \u001b[1;32min\u001b[0m \u001b[0mletter_list2\u001b[0m\u001b[1;33m:\u001b[0m\u001b[1;33m\u001b[0m\u001b[1;33m\u001b[0m\u001b[0m\n\u001b[0;32m     15\u001b[0m             \u001b[1;32mfor\u001b[0m \u001b[0my\u001b[0m \u001b[1;32min\u001b[0m \u001b[0mletter_list1\u001b[0m\u001b[1;33m:\u001b[0m\u001b[1;33m\u001b[0m\u001b[1;33m\u001b[0m\u001b[0m\n\u001b[1;32m---> 16\u001b[1;33m                 \u001b[1;32mif\u001b[0m \u001b[0mdrugname\u001b[0m\u001b[1;33m[\u001b[0m\u001b[0mi\u001b[0m\u001b[1;33m]\u001b[0m\u001b[1;33m==\u001b[0m\u001b[0mdrugname\u001b[0m\u001b[1;33m[\u001b[0m\u001b[0mj\u001b[0m\u001b[1;33m]\u001b[0m\u001b[1;33m:\u001b[0m\u001b[1;33m\u001b[0m\u001b[1;33m\u001b[0m\u001b[0m\n\u001b[0m\u001b[0;32m     17\u001b[0m                     \u001b[0mcount\u001b[0m\u001b[1;33m=\u001b[0m\u001b[0mfloat\u001b[0m\u001b[1;33m(\u001b[0m\u001b[1;34m\"nan\"\u001b[0m\u001b[1;33m)\u001b[0m\u001b[1;33m\u001b[0m\u001b[1;33m\u001b[0m\u001b[0m\n\u001b[0;32m     18\u001b[0m                 \u001b[1;32melse\u001b[0m\u001b[1;33m:\u001b[0m\u001b[1;33m\u001b[0m\u001b[1;33m\u001b[0m\u001b[0m\n",
      "\u001b[1;31mKeyboardInterrupt\u001b[0m: "
     ]
    }
   ],
   "source": [
    "drugname=df[\"drugname\"]\n",
    "side_eff=df[\"side_effect_name\"]\n",
    "\n",
    "for j in tqdm(range(length)):\n",
    "    \n",
    "    letter_list1 = side_eff[j].split(\",\")\n",
    "    drugocc={}\n",
    "\n",
    "    for i in range(length):\n",
    "        letter_list2 = side_eff[i].split(\",\")\n",
    "        key=drugname[i]\n",
    "        count=0\n",
    "\n",
    "        for x in letter_list2:    \n",
    "            for y in letter_list1:\n",
    "                if drugname[i]==drugname[j]:\n",
    "                    count=float(\"nan\")\n",
    "                else:\n",
    "                    if x==y:\n",
    "                        count=count+1\n",
    "            value=count\n",
    "        drugocc[key]=value\n",
    "    \n",
    "    print(drugocc)\n",
    "    df[drugname[j]] = df['drugname'].map(drugocc)"
   ]
  },
  {
   "cell_type": "code",
   "execution_count": 13,
   "id": "5832524d",
   "metadata": {},
   "outputs": [
    {
     "name": "stderr",
     "output_type": "stream",
     "text": [
      "100%|██████████████████████████████████████████████████████████████████████████████| 1347/1347 [01:47<00:00, 12.58it/s]\n"
     ]
    }
   ],
   "source": [
    "drugname=df[\"drugname\"]\n",
    "side_eff=df[\"side_effect_name\"]\n",
    "\n",
    "for j in tqdm(range(length)):\n",
    "    \n",
    "    letter_list1 = side_eff[j].split(\",\")\n",
    "    drugocc={}\n",
    "\n",
    "    for i in range(length):\n",
    "        \n",
    "        letter_list2 = side_eff[i].split(\",\")\n",
    "        key=drugname[i]\n",
    "        count=0\n",
    "\n",
    "        if drugname[i]==drugname[j]:\n",
    "            value=float(\"nan\")\n",
    "        else:\n",
    "            #set(list1).intersection(list2)\n",
    "            value=len(set(letter_list2).intersection(letter_list1))\n",
    "        \n",
    "        drugocc[key]=value\n",
    "    #print(drugocc)\n",
    "    df[drugname[j]] = df['drugname'].map(drugocc)"
   ]
  },
  {
   "cell_type": "code",
   "execution_count": 8,
   "id": "4d4d8726",
   "metadata": {},
   "outputs": [
    {
     "data": {
      "text/plain": [
       "438"
      ]
     },
     "execution_count": 8,
     "metadata": {},
     "output_type": "execute_result"
    }
   ],
   "source": [
    "len(set(letter_list2).intersection(letter_list1))"
   ]
  },
  {
   "cell_type": "code",
   "execution_count": 10,
   "id": "6f6a0db0",
   "metadata": {},
   "outputs": [
    {
     "data": {
      "text/plain": [
       "1002"
      ]
     },
     "execution_count": 10,
     "metadata": {},
     "output_type": "execute_result"
    }
   ],
   "source": [
    "len(letter_list1)"
   ]
  },
  {
   "cell_type": "code",
   "execution_count": 14,
   "id": "67fc902e",
   "metadata": {},
   "outputs": [
    {
     "data": {
      "text/html": [
       "<div>\n",
       "<style scoped>\n",
       "    .dataframe tbody tr th:only-of-type {\n",
       "        vertical-align: middle;\n",
       "    }\n",
       "\n",
       "    .dataframe tbody tr th {\n",
       "        vertical-align: top;\n",
       "    }\n",
       "\n",
       "    .dataframe thead th {\n",
       "        text-align: right;\n",
       "    }\n",
       "</style>\n",
       "<table border=\"1\" class=\"dataframe\">\n",
       "  <thead>\n",
       "    <tr style=\"text-align: right;\">\n",
       "      <th></th>\n",
       "      <th>S_No</th>\n",
       "      <th>CID</th>\n",
       "      <th>drugname</th>\n",
       "      <th>no_of_side_effect</th>\n",
       "      <th>side_effect_name</th>\n",
       "      <th>carnitine</th>\n",
       "      <th>gamma-aminobutyric</th>\n",
       "      <th>5-aminolevulinic</th>\n",
       "      <th>leucovorin</th>\n",
       "      <th>5-methyltetrahydrofolate</th>\n",
       "      <th>...</th>\n",
       "      <th>demeclocycline</th>\n",
       "      <th>heparin</th>\n",
       "      <th>hydroxypropyl</th>\n",
       "      <th>A77</th>\n",
       "      <th>tigecycline</th>\n",
       "      <th>lymecycline</th>\n",
       "      <th>n-3</th>\n",
       "      <th>x</th>\n",
       "      <th>colestyramine</th>\n",
       "      <th>K779</th>\n",
       "    </tr>\n",
       "  </thead>\n",
       "  <tbody>\n",
       "    <tr>\n",
       "      <th>0</th>\n",
       "      <td>1</td>\n",
       "      <td>CID100000085</td>\n",
       "      <td>carnitine</td>\n",
       "      <td>141</td>\n",
       "      <td>['Abdominal', 'Haemoglobin', 'Melaena', 'Melae...</td>\n",
       "      <td>NaN</td>\n",
       "      <td>2.0</td>\n",
       "      <td>22.0</td>\n",
       "      <td>22.0</td>\n",
       "      <td>0.0</td>\n",
       "      <td>...</td>\n",
       "      <td>12.0</td>\n",
       "      <td>15.0</td>\n",
       "      <td>2.0</td>\n",
       "      <td>34.0</td>\n",
       "      <td>46.0</td>\n",
       "      <td>12.0</td>\n",
       "      <td>8.0</td>\n",
       "      <td>9.0</td>\n",
       "      <td>30.0</td>\n",
       "      <td>62.0</td>\n",
       "    </tr>\n",
       "    <tr>\n",
       "      <th>1</th>\n",
       "      <td>2</td>\n",
       "      <td>CID100000119</td>\n",
       "      <td>gamma-aminobutyric</td>\n",
       "      <td>10</td>\n",
       "      <td>['Anaphylactic', 'Anaphylactic', 'Urticaria', ...</td>\n",
       "      <td>2.0</td>\n",
       "      <td>NaN</td>\n",
       "      <td>2.0</td>\n",
       "      <td>2.0</td>\n",
       "      <td>0.0</td>\n",
       "      <td>...</td>\n",
       "      <td>3.0</td>\n",
       "      <td>4.0</td>\n",
       "      <td>0.0</td>\n",
       "      <td>1.0</td>\n",
       "      <td>4.0</td>\n",
       "      <td>3.0</td>\n",
       "      <td>1.0</td>\n",
       "      <td>3.0</td>\n",
       "      <td>2.0</td>\n",
       "      <td>5.0</td>\n",
       "    </tr>\n",
       "    <tr>\n",
       "      <th>2</th>\n",
       "      <td>3</td>\n",
       "      <td>CID100000137</td>\n",
       "      <td>5-aminolevulinic</td>\n",
       "      <td>171</td>\n",
       "      <td>['Infestation', 'Feeling', 'Feeling', 'Photode...</td>\n",
       "      <td>22.0</td>\n",
       "      <td>2.0</td>\n",
       "      <td>NaN</td>\n",
       "      <td>18.0</td>\n",
       "      <td>0.0</td>\n",
       "      <td>...</td>\n",
       "      <td>10.0</td>\n",
       "      <td>17.0</td>\n",
       "      <td>1.0</td>\n",
       "      <td>27.0</td>\n",
       "      <td>38.0</td>\n",
       "      <td>17.0</td>\n",
       "      <td>7.0</td>\n",
       "      <td>12.0</td>\n",
       "      <td>16.0</td>\n",
       "      <td>46.0</td>\n",
       "    </tr>\n",
       "    <tr>\n",
       "      <th>3</th>\n",
       "      <td>4</td>\n",
       "      <td>CID100000143</td>\n",
       "      <td>leucovorin</td>\n",
       "      <td>179</td>\n",
       "      <td>['Fatigue', 'Dermatitis', 'Extravasation', 'Ex...</td>\n",
       "      <td>22.0</td>\n",
       "      <td>2.0</td>\n",
       "      <td>18.0</td>\n",
       "      <td>NaN</td>\n",
       "      <td>0.0</td>\n",
       "      <td>...</td>\n",
       "      <td>14.0</td>\n",
       "      <td>17.0</td>\n",
       "      <td>1.0</td>\n",
       "      <td>19.0</td>\n",
       "      <td>39.0</td>\n",
       "      <td>16.0</td>\n",
       "      <td>9.0</td>\n",
       "      <td>9.0</td>\n",
       "      <td>24.0</td>\n",
       "      <td>44.0</td>\n",
       "    </tr>\n",
       "    <tr>\n",
       "      <th>4</th>\n",
       "      <td>5</td>\n",
       "      <td>CID100000146</td>\n",
       "      <td>5-methyltetrahydrofolate</td>\n",
       "      <td>2</td>\n",
       "      <td>['Sensitisation', 'Sensitisation']</td>\n",
       "      <td>0.0</td>\n",
       "      <td>0.0</td>\n",
       "      <td>0.0</td>\n",
       "      <td>0.0</td>\n",
       "      <td>NaN</td>\n",
       "      <td>...</td>\n",
       "      <td>0.0</td>\n",
       "      <td>0.0</td>\n",
       "      <td>0.0</td>\n",
       "      <td>0.0</td>\n",
       "      <td>0.0</td>\n",
       "      <td>0.0</td>\n",
       "      <td>0.0</td>\n",
       "      <td>0.0</td>\n",
       "      <td>0.0</td>\n",
       "      <td>0.0</td>\n",
       "    </tr>\n",
       "    <tr>\n",
       "      <th>...</th>\n",
       "      <td>...</td>\n",
       "      <td>...</td>\n",
       "      <td>...</td>\n",
       "      <td>...</td>\n",
       "      <td>...</td>\n",
       "      <td>...</td>\n",
       "      <td>...</td>\n",
       "      <td>...</td>\n",
       "      <td>...</td>\n",
       "      <td>...</td>\n",
       "      <td>...</td>\n",
       "      <td>...</td>\n",
       "      <td>...</td>\n",
       "      <td>...</td>\n",
       "      <td>...</td>\n",
       "      <td>...</td>\n",
       "      <td>...</td>\n",
       "      <td>...</td>\n",
       "      <td>...</td>\n",
       "      <td>...</td>\n",
       "      <td>...</td>\n",
       "    </tr>\n",
       "    <tr>\n",
       "      <th>1342</th>\n",
       "      <td>1343</td>\n",
       "      <td>CID154687131</td>\n",
       "      <td>lymecycline</td>\n",
       "      <td>101</td>\n",
       "      <td>['Candida', 'Candida', 'Dysphagia', 'Dysphagia...</td>\n",
       "      <td>12.0</td>\n",
       "      <td>3.0</td>\n",
       "      <td>17.0</td>\n",
       "      <td>16.0</td>\n",
       "      <td>0.0</td>\n",
       "      <td>...</td>\n",
       "      <td>26.0</td>\n",
       "      <td>10.0</td>\n",
       "      <td>2.0</td>\n",
       "      <td>20.0</td>\n",
       "      <td>33.0</td>\n",
       "      <td>NaN</td>\n",
       "      <td>5.0</td>\n",
       "      <td>12.0</td>\n",
       "      <td>13.0</td>\n",
       "      <td>40.0</td>\n",
       "    </tr>\n",
       "    <tr>\n",
       "      <th>1343</th>\n",
       "      <td>1344</td>\n",
       "      <td>CID156842239</td>\n",
       "      <td>n-3</td>\n",
       "      <td>27</td>\n",
       "      <td>['Vomiting', 'Gastrointestinal', 'Gastrointest...</td>\n",
       "      <td>8.0</td>\n",
       "      <td>1.0</td>\n",
       "      <td>7.0</td>\n",
       "      <td>9.0</td>\n",
       "      <td>0.0</td>\n",
       "      <td>...</td>\n",
       "      <td>4.0</td>\n",
       "      <td>3.0</td>\n",
       "      <td>0.0</td>\n",
       "      <td>9.0</td>\n",
       "      <td>12.0</td>\n",
       "      <td>5.0</td>\n",
       "      <td>NaN</td>\n",
       "      <td>3.0</td>\n",
       "      <td>9.0</td>\n",
       "      <td>12.0</td>\n",
       "    </tr>\n",
       "    <tr>\n",
       "      <th>1344</th>\n",
       "      <td>1345</td>\n",
       "      <td>CID170683024</td>\n",
       "      <td>x</td>\n",
       "      <td>71</td>\n",
       "      <td>['Interstitial', 'Interstitial', 'Skin', 'Unsp...</td>\n",
       "      <td>9.0</td>\n",
       "      <td>3.0</td>\n",
       "      <td>12.0</td>\n",
       "      <td>9.0</td>\n",
       "      <td>0.0</td>\n",
       "      <td>...</td>\n",
       "      <td>9.0</td>\n",
       "      <td>8.0</td>\n",
       "      <td>1.0</td>\n",
       "      <td>17.0</td>\n",
       "      <td>20.0</td>\n",
       "      <td>12.0</td>\n",
       "      <td>3.0</td>\n",
       "      <td>NaN</td>\n",
       "      <td>9.0</td>\n",
       "      <td>26.0</td>\n",
       "    </tr>\n",
       "    <tr>\n",
       "      <th>1345</th>\n",
       "      <td>1346</td>\n",
       "      <td>CID170695640</td>\n",
       "      <td>colestyramine</td>\n",
       "      <td>179</td>\n",
       "      <td>['Liver', 'Foetor', 'Rash', 'Abdominal', 'Abdo...</td>\n",
       "      <td>30.0</td>\n",
       "      <td>2.0</td>\n",
       "      <td>16.0</td>\n",
       "      <td>24.0</td>\n",
       "      <td>0.0</td>\n",
       "      <td>...</td>\n",
       "      <td>15.0</td>\n",
       "      <td>16.0</td>\n",
       "      <td>2.0</td>\n",
       "      <td>22.0</td>\n",
       "      <td>40.0</td>\n",
       "      <td>13.0</td>\n",
       "      <td>9.0</td>\n",
       "      <td>9.0</td>\n",
       "      <td>NaN</td>\n",
       "      <td>64.0</td>\n",
       "    </tr>\n",
       "    <tr>\n",
       "      <th>1346</th>\n",
       "      <td>1347</td>\n",
       "      <td>CID171306834</td>\n",
       "      <td>K779</td>\n",
       "      <td>1002</td>\n",
       "      <td>['Warts', 'Skin', 'Haematoma', 'Stevens-Johnso...</td>\n",
       "      <td>62.0</td>\n",
       "      <td>5.0</td>\n",
       "      <td>46.0</td>\n",
       "      <td>44.0</td>\n",
       "      <td>0.0</td>\n",
       "      <td>...</td>\n",
       "      <td>34.0</td>\n",
       "      <td>31.0</td>\n",
       "      <td>4.0</td>\n",
       "      <td>76.0</td>\n",
       "      <td>110.0</td>\n",
       "      <td>40.0</td>\n",
       "      <td>12.0</td>\n",
       "      <td>26.0</td>\n",
       "      <td>64.0</td>\n",
       "      <td>NaN</td>\n",
       "    </tr>\n",
       "  </tbody>\n",
       "</table>\n",
       "<p>1347 rows × 1352 columns</p>\n",
       "</div>"
      ],
      "text/plain": [
       "      S_No           CID                  drugname  no_of_side_effect  \\\n",
       "0        1  CID100000085                 carnitine                141   \n",
       "1        2  CID100000119        gamma-aminobutyric                 10   \n",
       "2        3  CID100000137          5-aminolevulinic                171   \n",
       "3        4  CID100000143                leucovorin                179   \n",
       "4        5  CID100000146  5-methyltetrahydrofolate                  2   \n",
       "...    ...           ...                       ...                ...   \n",
       "1342  1343  CID154687131               lymecycline                101   \n",
       "1343  1344  CID156842239                       n-3                 27   \n",
       "1344  1345  CID170683024                         x                 71   \n",
       "1345  1346  CID170695640             colestyramine                179   \n",
       "1346  1347  CID171306834                      K779               1002   \n",
       "\n",
       "                                       side_effect_name  carnitine  \\\n",
       "0     ['Abdominal', 'Haemoglobin', 'Melaena', 'Melae...        NaN   \n",
       "1     ['Anaphylactic', 'Anaphylactic', 'Urticaria', ...        2.0   \n",
       "2     ['Infestation', 'Feeling', 'Feeling', 'Photode...       22.0   \n",
       "3     ['Fatigue', 'Dermatitis', 'Extravasation', 'Ex...       22.0   \n",
       "4                    ['Sensitisation', 'Sensitisation']        0.0   \n",
       "...                                                 ...        ...   \n",
       "1342  ['Candida', 'Candida', 'Dysphagia', 'Dysphagia...       12.0   \n",
       "1343  ['Vomiting', 'Gastrointestinal', 'Gastrointest...        8.0   \n",
       "1344  ['Interstitial', 'Interstitial', 'Skin', 'Unsp...        9.0   \n",
       "1345  ['Liver', 'Foetor', 'Rash', 'Abdominal', 'Abdo...       30.0   \n",
       "1346  ['Warts', 'Skin', 'Haematoma', 'Stevens-Johnso...       62.0   \n",
       "\n",
       "      gamma-aminobutyric  5-aminolevulinic  leucovorin  \\\n",
       "0                    2.0              22.0        22.0   \n",
       "1                    NaN               2.0         2.0   \n",
       "2                    2.0               NaN        18.0   \n",
       "3                    2.0              18.0         NaN   \n",
       "4                    0.0               0.0         0.0   \n",
       "...                  ...               ...         ...   \n",
       "1342                 3.0              17.0        16.0   \n",
       "1343                 1.0               7.0         9.0   \n",
       "1344                 3.0              12.0         9.0   \n",
       "1345                 2.0              16.0        24.0   \n",
       "1346                 5.0              46.0        44.0   \n",
       "\n",
       "      5-methyltetrahydrofolate  ...  demeclocycline  heparin  hydroxypropyl  \\\n",
       "0                          0.0  ...            12.0     15.0            2.0   \n",
       "1                          0.0  ...             3.0      4.0            0.0   \n",
       "2                          0.0  ...            10.0     17.0            1.0   \n",
       "3                          0.0  ...            14.0     17.0            1.0   \n",
       "4                          NaN  ...             0.0      0.0            0.0   \n",
       "...                        ...  ...             ...      ...            ...   \n",
       "1342                       0.0  ...            26.0     10.0            2.0   \n",
       "1343                       0.0  ...             4.0      3.0            0.0   \n",
       "1344                       0.0  ...             9.0      8.0            1.0   \n",
       "1345                       0.0  ...            15.0     16.0            2.0   \n",
       "1346                       0.0  ...            34.0     31.0            4.0   \n",
       "\n",
       "       A77  tigecycline  lymecycline   n-3     x  colestyramine  K779  \n",
       "0     34.0         46.0         12.0   8.0   9.0           30.0  62.0  \n",
       "1      1.0          4.0          3.0   1.0   3.0            2.0   5.0  \n",
       "2     27.0         38.0         17.0   7.0  12.0           16.0  46.0  \n",
       "3     19.0         39.0         16.0   9.0   9.0           24.0  44.0  \n",
       "4      0.0          0.0          0.0   0.0   0.0            0.0   0.0  \n",
       "...    ...          ...          ...   ...   ...            ...   ...  \n",
       "1342  20.0         33.0          NaN   5.0  12.0           13.0  40.0  \n",
       "1343   9.0         12.0          5.0   NaN   3.0            9.0  12.0  \n",
       "1344  17.0         20.0         12.0   3.0   NaN            9.0  26.0  \n",
       "1345  22.0         40.0         13.0   9.0   9.0            NaN  64.0  \n",
       "1346  76.0        110.0         40.0  12.0  26.0           64.0   NaN  \n",
       "\n",
       "[1347 rows x 1352 columns]"
      ]
     },
     "execution_count": 14,
     "metadata": {},
     "output_type": "execute_result"
    }
   ],
   "source": [
    "df"
   ]
  },
  {
   "cell_type": "code",
   "execution_count": null,
   "id": "f15b21fe",
   "metadata": {},
   "outputs": [],
   "source": []
  }
 ],
 "metadata": {
  "kernelspec": {
   "display_name": "Python 3",
   "language": "python",
   "name": "python3"
  },
  "language_info": {
   "codemirror_mode": {
    "name": "ipython",
    "version": 3
   },
   "file_extension": ".py",
   "mimetype": "text/x-python",
   "name": "python",
   "nbconvert_exporter": "python",
   "pygments_lexer": "ipython3",
   "version": "3.9.2"
  }
 },
 "nbformat": 4,
 "nbformat_minor": 5
}
