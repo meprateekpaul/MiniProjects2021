{
 "cells": [
  {
   "cell_type": "markdown",
   "id": "cbbc7572",
   "metadata": {},
   "source": [
    "# This is a Modeller Batch Script\n",
    "## Script made under guidance of Rawal Genomics Team\n",
    "### Script made by Prateek Paul\n",
    "Source: https://salilab.org/modeller/tutorial/basic.html"
   ]
  },
  {
   "cell_type": "markdown",
   "id": "2e07ffe0",
   "metadata": {},
   "source": [
    "#### #pip install Bio\n",
    "##### Install Modeller from https://salilab.org/modeller/download_installation.html\n",
    "##### Also download suplementary files and put them in same folder https://salilab.org/modeller/supplemental.html\n",
    "##### licence key https://salilab.org/modeller/registration.html\n",
    "#### code references https://salilab.org/modeller/tutorial/basic.html"
   ]
  },
  {
   "cell_type": "code",
   "execution_count": 19,
   "id": "be5c7ce5",
   "metadata": {},
   "outputs": [],
   "source": [
    "#importing all modelues\n",
    "import os\n",
    "import glob\n",
    "import Bio\n",
    "import urllib\n",
    "import shutil, sys \n",
    "import numpy as np\n",
    "import pandas as pd\n",
    "from Bio.PDB import *\n",
    "from Bio import SeqIO\n",
    "from modeller import *\n",
    "from modeller.automodel import *\n",
    "#sys.stdout = open(\"dump.txt\", \"w\")"
   ]
  },
  {
   "cell_type": "code",
   "execution_count": 20,
   "id": "0ac4df9a",
   "metadata": {},
   "outputs": [],
   "source": [
    "#creating folder so that main folder looks clean\n",
    "def folder():\n",
    "    try:\n",
    "        os.mkdir('Ready')\n",
    "        os.mkdir('ali')\n",
    "        os.mkdir('buildprofile')\n",
    "        os.mkdir('PDB')\n",
    "    except:\n",
    "        print('folder exists')"
   ]
  },
  {
   "cell_type": "code",
   "execution_count": 21,
   "id": "875173f9",
   "metadata": {},
   "outputs": [],
   "source": [
    "#generating main sequence ali files\n",
    "def aligen(ID, Seq):\n",
    "    ids,v=ID.split('.')\n",
    "    file1 = open(\"ali/\"+ids+\".ali\", \"w\")\n",
    "    file1.write(\">P1;\"+ids+\"\\n\")\n",
    "    file1.write(\"sequence:\"+ids+\":::::::0.00: 0.00\"+\"\\n\")\n",
    "    file1.write(Seq+\"*\")\n",
    "    file1.close()"
   ]
  },
  {
   "cell_type": "code",
   "execution_count": 22,
   "id": "3ac283f4",
   "metadata": {},
   "outputs": [],
   "source": [
    "#Searching for structures related to the main sequence \n",
    "def build_profile(ID):\n",
    "    ids,v=ID.split('.')\n",
    "    log.verbose()\n",
    "    env = Environ()\n",
    "    sdb = SequenceDB(env)\n",
    "    sdb.read(seq_database_file='pdb_95.pir', seq_database_format='PIR',\n",
    "             chains_list='ALL', minmax_db_seq_len=(30, 4000), clean_sequences=True)\n",
    "    sdb.write(seq_database_file='pdb_95.bin', seq_database_format='BINARY',\n",
    "              chains_list='ALL')\n",
    "    sdb.read(seq_database_file='pdb_95.bin', seq_database_format='BINARY',\n",
    "             chains_list='ALL')\n",
    "    aln = Alignment(env)\n",
    "    aln.append(file=\"ali/\"+ids+\".ali\", alignment_format='PIR', align_codes='ALL')\n",
    "    prf = aln.to_profile()\n",
    "    prf.build(sdb, matrix_offset=-450, rr_file='${LIB}/blosum62.sim.mat',\n",
    "              gap_penalties_1d=(-500, -50), n_prof_iterations=1,\n",
    "              check_profile=False, max_aln_evalue=0.01)\n",
    "    prf.write(file=\"buildprofile/\"+ids+'build_profile.prf', profile_format='TEXT')\n",
    "    aln = prf.to_alignment()\n",
    "    aln.write(file=\"buildprofile/\"+ids+'build_profile.ali', alignment_format='PIR')"
   ]
  },
  {
   "cell_type": "code",
   "execution_count": 23,
   "id": "ce61cb5d",
   "metadata": {},
   "outputs": [],
   "source": [
    "#Downloading the selected pdb files required for the templetes\n",
    "def pdbDn(pdbid):\n",
    "    urllib.request.urlretrieve('http://files.rcsb.org/download/'+pdbid+'.pdb', pdbid+'.pdb')"
   ]
  },
  {
   "cell_type": "code",
   "execution_count": 24,
   "id": "a0576529",
   "metadata": {},
   "outputs": [],
   "source": [
    "#comparing the downloaded pdb\n",
    "#presently this step is being skipped \n",
    "#and the code is taking the top hit for the pdb \n",
    "def compare(listpdb,ID):\n",
    "    ids,v=ID.split('.')\n",
    "    env = Environ()\n",
    "    aln = Alignment(env)\n",
    "    for (pdb, chain) in (listpdb):\n",
    "        m = Model(env, file=pdb, model_segment=('FIRST:'+chain, 'LAST:'+chain))\n",
    "        aln.append_model(m, atom_files=pdb, align_codes=pdb+chain)\n",
    "    aln.malign()\n",
    "    aln.malign3d()\n",
    "    aln.compare_structures()\n",
    "    aln.id_table(matrix_file='family.mat')\n",
    "    env.dendrogram(matrix_file='family.mat', cluster_cut=-1.0)"
   ]
  },
  {
   "cell_type": "code",
   "execution_count": 25,
   "id": "c49b1b76",
   "metadata": {},
   "outputs": [],
   "source": [
    "#Aligning Main seq with the template\n",
    "def align2d(pdbid,chain,ID):\n",
    "    ids,v=ID.split('.')\n",
    "    env = Environ()\n",
    "    aln = Alignment(env)\n",
    "    mdl = Model(env, file=pdbid, model_segment=('FIRST:A','LAST:A'))\n",
    "    aln.append_model(mdl, align_codes=pdbid+chain, atom_files=pdbid+'.pdb')\n",
    "    aln.append(file=\"ali/\"+ids+'.ali', align_codes=ids)\n",
    "    aln.align2d()\n",
    "    aln.write(file=\"ali/\"+ids+'-'+pdbid+chain+'.ali', alignment_format='PIR')\n",
    "    aln.write(file=\"ali/\"+ids+'-'+pdbid+chain+'.pap', alignment_format='PAP')"
   ]
  },
  {
   "cell_type": "code",
   "execution_count": 26,
   "id": "6327cfbf",
   "metadata": {},
   "outputs": [],
   "source": [
    "#building the profile for the selected pdb to main seq\n",
    "def prf(ids):\n",
    "        a_file = open(\"buildprofile/\"+ids+'build_profile.prf', \"r\")\n",
    "        lines = a_file.readlines()\n",
    "        a_file.close()\n",
    "        line=lines[6:]\n",
    "        f = open(\"buildprofile/\"+ids+'build_profile.prf', \"w\")\n",
    "        #f.write('sno \\t id \\t l1 \\t l2')\n",
    "        for x in line:\n",
    "            for z in x.split():\n",
    "                f.write(z+'\\t')\n",
    "            f.write('\\n')\n",
    "        f.close()\n",
    "        df = pd.read_csv(\"buildprofile/\"+ids+'build_profile.prf', sep='\\t', header=None)\n",
    "        #return (len(df))\n",
    "        df=df.sort_values(by=([10,11]), ascending=(False,False))\n",
    "        df=df.reset_index()\n",
    "        identity = df[10]\n",
    "        #y=identity[1]\n",
    "        if len(df) > 0: \n",
    "            pdbids=df[1]\n",
    "            if len(df) > 1:\n",
    "                x=pdbids[1]\n",
    "                pdbDn(x[:4])\n",
    "            else:\n",
    "                x = 'cannot'\n",
    "        else:\n",
    "            x = 'cannot'        \n",
    "        return (len(df)), identity,x"
   ]
  },
  {
   "cell_type": "code",
   "execution_count": 27,
   "id": "d3055ad5",
   "metadata": {},
   "outputs": [],
   "source": [
    "#Model building\n",
    "def model(ali,ID,pdbid):\n",
    "    ids,v=ID.split('.')\n",
    "    env = Environ()\n",
    "    a = AutoModel(env, alnfile=ali,\n",
    "                  knowns=pdbid, sequence=ids,\n",
    "                  assess_methods=(assess.DOPE,\n",
    "                                  assess.GA341))\n",
    "    a.starting_model = 1\n",
    "    a.ending_model = 5\n",
    "    a.make()"
   ]
  },
  {
   "cell_type": "code",
   "execution_count": 28,
   "id": "732eee48",
   "metadata": {},
   "outputs": [],
   "source": [
    "#Model evaluation and removing of the other files\n",
    "def eva(ids):\n",
    "    dope = 0.0\n",
    "    for file in glob.glob(ids+\".*.pdb\"):\n",
    "        fh = open(file)\n",
    "        for each in fh:\n",
    "            if \"REMARK   6 DOPE score:\" in each:\n",
    "                b = each.split(' ')\n",
    "                r = b[6].strip()\n",
    "                if float(r) < float(dope):\n",
    "                    dope=b[6]\n",
    "                    mainfile=file\n",
    "        fh.close()\n",
    "    pdbs=glob.glob(ids+\".*.pdb\")\n",
    "    shutil.move(mainfile, 'Ready')\n",
    "    for pdbmod in glob.glob(ids+\".*\"):\n",
    "        os.remove(pdbmod)"
   ]
  },
  {
   "cell_type": "code",
   "execution_count": 29,
   "id": "e23f3636",
   "metadata": {},
   "outputs": [],
   "source": [
    "def main():\n",
    "    folder()\n",
    "    \n",
    "    with open(\"AAHK01.fasta\") as handle:\n",
    "        for record in SeqIO.parse(handle, \"fasta\"):\n",
    "            def model(ali,ID,pdbid):\n",
    "                ids,v=ID.split('.')\n",
    "                env = Environ()\n",
    "                a = AutoModel(env, alnfile=ali,\n",
    "                              knowns=pdbid, sequence=ids,\n",
    "                              assess_methods=(assess.DOPE,\n",
    "                                              assess.GA341))\n",
    "                a.starting_model = 1\n",
    "                a.ending_model = 5\n",
    "                a.make()\n",
    "            \n",
    "            \n",
    "            ID=record.id\n",
    "            Seq=record.seq\n",
    "            Seq=str(Seq)\n",
    "            ids,v=ID.split('.')\n",
    "            aligen(ID, Seq)\n",
    "\n",
    "            build_profile(ID)\n",
    "            \n",
    "            length,identity,x=prf(ids)\n",
    "            \n",
    "            if x == 'cannot':\n",
    "                print('next file')\n",
    "            else:\n",
    "                if length > 1:\n",
    "                    if int(identity[1]) > 34:\n",
    "                        align2d(x[:4],x[4:5],ID)\n",
    "                        path = 'ali/'+ids+'-'+x+'.ali'\n",
    "                        model(path,ID,x)\n",
    "                        eva(ids)\n",
    "                        \n",
    "    #pdbsall=glob.glob(\"*.pdb\")\n",
    "    for pdbsall in glob.glob(\"*.pdb\"):\n",
    "        shutil.move(pdbsall, 'PDB')"
   ]
  },
  {
   "cell_type": "code",
   "execution_count": null,
   "id": "27e72534",
   "metadata": {},
   "outputs": [],
   "source": [
    "if __name__ == \"__main__\":\n",
    "    main()"
   ]
  }
 ],
 "metadata": {
  "kernelspec": {
   "display_name": "Python 3",
   "language": "python",
   "name": "python3"
  },
  "language_info": {
   "codemirror_mode": {
    "name": "ipython",
    "version": 3
   },
   "file_extension": ".py",
   "mimetype": "text/x-python",
   "name": "python",
   "nbconvert_exporter": "python",
   "pygments_lexer": "ipython3",
   "version": "3.9.2"
  }
 },
 "nbformat": 4,
 "nbformat_minor": 5
}
